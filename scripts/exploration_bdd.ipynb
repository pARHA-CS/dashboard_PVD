{
 "cells": [
  {
   "cell_type": "code",
   "execution_count": 1,
   "metadata": {},
   "outputs": [],
   "source": [
    "import polars as pl\n",
    "import os\n",
    "import duckdb as db"
   ]
  },
  {
   "cell_type": "markdown",
   "metadata": {},
   "source": [
    "# Chemin data"
   ]
  },
  {
   "cell_type": "code",
   "execution_count": 2,
   "metadata": {},
   "outputs": [],
   "source": [
    "current_dir = os.getcwd()\n",
    "parent_dir = os.path.dirname(current_dir)\n",
    "data = os.path.join(parent_dir, \"data\")\n",
    "data_path_equipement = os.path.join(data, \"BPE23.parquet\")"
   ]
  },
  {
   "cell_type": "markdown",
   "metadata": {},
   "source": [
    "# BDD"
   ]
  },
  {
   "cell_type": "code",
   "execution_count": 3,
   "metadata": {},
   "outputs": [],
   "source": [
    "df = pl.scan_parquet(data_path_equipement)"
   ]
  },
  {
   "cell_type": "code",
   "execution_count": 29,
   "metadata": {},
   "outputs": [],
   "source": [
    "df_filtered = (\n",
    "    df.filter(\n",
    "        (pl.col(\"DOM\") == \"D\") & \n",
    "        (pl.col(\"TYPEQU\").str.contains(\"D\")) &\n",
    "        (pl.col(\"LATITUDE\").is_not_null() & pl.col(\"LONGITUDE\").is_not_null()) &\n",
    "        (pl.col(\"LATITUDE\") > 41) & (pl.col(\"LATITUDE\") < 52) &\n",
    "        (pl.col(\"LONGITUDE\") > -5) & (pl.col(\"LONGITUDE\") < 9) &\n",
    "        (pl.col(\"SDOM\").is_in([\"D1\", \"D2\", \"D3\"]))\n",
    "    )\n",
    "    .with_columns(pl.col(\"LIBCOM\").str.to_lowercase())\n",
    "    .select([\n",
    "        \"DOM\", \"SDOM\", \"TYPEQU\", \"DENS3\", \"DENS7\",\n",
    "        \"AAV2020\", \"QP\", \"QP2015\", \"LATITUDE\", \"LONGITUDE\",\n",
    "        \"CODPOS\", \"DEP\", \"REG\", \"LIBCOM\"\n",
    "    ])\n",
    "    .collect()\n",
    ")\n"
   ]
  },
  {
   "cell_type": "code",
   "execution_count": 5,
   "metadata": {},
   "outputs": [
    {
     "data": {
      "text/html": [
       "<div><style>\n",
       ".dataframe > thead > tr,\n",
       ".dataframe > tbody > tr {\n",
       "  text-align: right;\n",
       "  white-space: pre-wrap;\n",
       "}\n",
       "</style>\n",
       "<small>shape: (441_709, 14)</small><table border=\"1\" class=\"dataframe\"><thead><tr><th>DOM</th><th>SDOM</th><th>TYPEQU</th><th>DENS3</th><th>DENS7</th><th>AAV2020</th><th>QP</th><th>QP2015</th><th>LATITUDE</th><th>LONGITUDE</th><th>CODPOS</th><th>DEP</th><th>REG</th><th>LIBCOM</th></tr><tr><td>str</td><td>str</td><td>str</td><td>str</td><td>str</td><td>str</td><td>str</td><td>str</td><td>f64</td><td>f64</td><td>str</td><td>str</td><td>str</td><td>str</td></tr></thead><tbody><tr><td>&quot;D&quot;</td><td>&quot;D1&quot;</td><td>&quot;D101&quot;</td><td>&quot;1&quot;</td><td>&quot;1&quot;</td><td>&quot;001&quot;</td><td>&quot;CSZ&quot;</td><td>&quot;CSZ&quot;</td><td>48.859152</td><td>2.341102</td><td>&quot;75001&quot;</td><td>&quot;75&quot;</td><td>&quot;11&quot;</td><td>&quot;paris 1er arrondissement&quot;</td></tr><tr><td>&quot;D&quot;</td><td>&quot;D1&quot;</td><td>&quot;D108&quot;</td><td>&quot;1&quot;</td><td>&quot;1&quot;</td><td>&quot;001&quot;</td><td>&quot;CSZ&quot;</td><td>&quot;CSZ&quot;</td><td>48.865472</td><td>2.334304</td><td>&quot;75001&quot;</td><td>&quot;75&quot;</td><td>&quot;11&quot;</td><td>&quot;paris 1er arrondissement&quot;</td></tr><tr><td>&quot;D&quot;</td><td>&quot;D1&quot;</td><td>&quot;D108&quot;</td><td>&quot;1&quot;</td><td>&quot;1&quot;</td><td>&quot;001&quot;</td><td>&quot;CSZ&quot;</td><td>&quot;CSZ&quot;</td><td>48.859328</td><td>2.346075</td><td>&quot;75001&quot;</td><td>&quot;75&quot;</td><td>&quot;11&quot;</td><td>&quot;paris 1er arrondissement&quot;</td></tr><tr><td>&quot;D&quot;</td><td>&quot;D1&quot;</td><td>&quot;D108&quot;</td><td>&quot;1&quot;</td><td>&quot;1&quot;</td><td>&quot;001&quot;</td><td>&quot;CSZ&quot;</td><td>&quot;CSZ&quot;</td><td>48.863354</td><td>2.349947</td><td>&quot;75001&quot;</td><td>&quot;75&quot;</td><td>&quot;11&quot;</td><td>&quot;paris 1er arrondissement&quot;</td></tr><tr><td>&quot;D&quot;</td><td>&quot;D1&quot;</td><td>&quot;D108&quot;</td><td>&quot;1&quot;</td><td>&quot;1&quot;</td><td>&quot;001&quot;</td><td>&quot;CSZ&quot;</td><td>&quot;CSZ&quot;</td><td>48.863715</td><td>2.347963</td><td>&quot;75001&quot;</td><td>&quot;75&quot;</td><td>&quot;11&quot;</td><td>&quot;paris 1er arrondissement&quot;</td></tr><tr><td>&hellip;</td><td>&hellip;</td><td>&hellip;</td><td>&hellip;</td><td>&hellip;</td><td>&hellip;</td><td>&hellip;</td><td>&hellip;</td><td>&hellip;</td><td>&hellip;</td><td>&hellip;</td><td>&hellip;</td><td>&hellip;</td><td>&hellip;</td></tr><tr><td>&quot;D&quot;</td><td>&quot;D2&quot;</td><td>&quot;D244&quot;</td><td>&quot;3&quot;</td><td>&quot;5&quot;</td><td>&quot;495&quot;</td><td>&quot;CSZ&quot;</td><td>&quot;CSZ&quot;</td><td>42.621339</td><td>8.945191</td><td>&quot;20220&quot;</td><td>&quot;2B&quot;</td><td>&quot;94&quot;</td><td>&quot;monticello&quot;</td></tr><tr><td>&quot;D&quot;</td><td>&quot;D2&quot;</td><td>&quot;D244&quot;</td><td>&quot;3&quot;</td><td>&quot;5&quot;</td><td>&quot;495&quot;</td><td>&quot;CSZ&quot;</td><td>&quot;CSZ&quot;</td><td>42.631096</td><td>8.950363</td><td>&quot;20220&quot;</td><td>&quot;2B&quot;</td><td>&quot;94&quot;</td><td>&quot;monticello&quot;</td></tr><tr><td>&quot;D&quot;</td><td>&quot;D2&quot;</td><td>&quot;D244&quot;</td><td>&quot;3&quot;</td><td>&quot;6&quot;</td><td>&quot;430&quot;</td><td>&quot;CSZ&quot;</td><td>&quot;CSZ&quot;</td><td>42.546474</td><td>8.913547</td><td>&quot;20225&quot;</td><td>&quot;2B&quot;</td><td>&quot;94&quot;</td><td>&quot;muro&quot;</td></tr><tr><td>&quot;D&quot;</td><td>&quot;D2&quot;</td><td>&quot;D244&quot;</td><td>&quot;3&quot;</td><td>&quot;6&quot;</td><td>&quot;430&quot;</td><td>&quot;CSZ&quot;</td><td>&quot;CSZ&quot;</td><td>42.552518</td><td>8.950741</td><td>&quot;20225&quot;</td><td>&quot;2B&quot;</td><td>&quot;94&quot;</td><td>&quot;nessa&quot;</td></tr><tr><td>&quot;D&quot;</td><td>&quot;D2&quot;</td><td>&quot;D244&quot;</td><td>&quot;3&quot;</td><td>&quot;6&quot;</td><td>&quot;430&quot;</td><td>&quot;CSZ&quot;</td><td>&quot;CSZ&quot;</td><td>42.549897</td><td>8.949254</td><td>&quot;20225&quot;</td><td>&quot;2B&quot;</td><td>&quot;94&quot;</td><td>&quot;nessa&quot;</td></tr></tbody></table></div>"
      ],
      "text/plain": [
       "shape: (441_709, 14)\n",
       "┌─────┬──────┬────────┬───────┬───┬────────┬─────┬─────┬──────────────────────────┐\n",
       "│ DOM ┆ SDOM ┆ TYPEQU ┆ DENS3 ┆ … ┆ CODPOS ┆ DEP ┆ REG ┆ LIBCOM                   │\n",
       "│ --- ┆ ---  ┆ ---    ┆ ---   ┆   ┆ ---    ┆ --- ┆ --- ┆ ---                      │\n",
       "│ str ┆ str  ┆ str    ┆ str   ┆   ┆ str    ┆ str ┆ str ┆ str                      │\n",
       "╞═════╪══════╪════════╪═══════╪═══╪════════╪═════╪═════╪══════════════════════════╡\n",
       "│ D   ┆ D1   ┆ D101   ┆ 1     ┆ … ┆ 75001  ┆ 75  ┆ 11  ┆ paris 1er arrondissement │\n",
       "│ D   ┆ D1   ┆ D108   ┆ 1     ┆ … ┆ 75001  ┆ 75  ┆ 11  ┆ paris 1er arrondissement │\n",
       "│ D   ┆ D1   ┆ D108   ┆ 1     ┆ … ┆ 75001  ┆ 75  ┆ 11  ┆ paris 1er arrondissement │\n",
       "│ D   ┆ D1   ┆ D108   ┆ 1     ┆ … ┆ 75001  ┆ 75  ┆ 11  ┆ paris 1er arrondissement │\n",
       "│ D   ┆ D1   ┆ D108   ┆ 1     ┆ … ┆ 75001  ┆ 75  ┆ 11  ┆ paris 1er arrondissement │\n",
       "│ …   ┆ …    ┆ …      ┆ …     ┆ … ┆ …      ┆ …   ┆ …   ┆ …                        │\n",
       "│ D   ┆ D2   ┆ D244   ┆ 3     ┆ … ┆ 20220  ┆ 2B  ┆ 94  ┆ monticello               │\n",
       "│ D   ┆ D2   ┆ D244   ┆ 3     ┆ … ┆ 20220  ┆ 2B  ┆ 94  ┆ monticello               │\n",
       "│ D   ┆ D2   ┆ D244   ┆ 3     ┆ … ┆ 20225  ┆ 2B  ┆ 94  ┆ muro                     │\n",
       "│ D   ┆ D2   ┆ D244   ┆ 3     ┆ … ┆ 20225  ┆ 2B  ┆ 94  ┆ nessa                    │\n",
       "│ D   ┆ D2   ┆ D244   ┆ 3     ┆ … ┆ 20225  ┆ 2B  ┆ 94  ┆ nessa                    │\n",
       "└─────┴──────┴────────┴───────┴───┴────────┴─────┴─────┴──────────────────────────┘"
      ]
     },
     "metadata": {},
     "output_type": "display_data"
    }
   ],
   "source": [
    "display(df_filtered)"
   ]
  },
  {
   "cell_type": "code",
   "execution_count": 6,
   "metadata": {},
   "outputs": [
    {
     "data": {
      "text/html": [
       "<div><style>\n",
       ".dataframe > thead > tr,\n",
       ".dataframe > tbody > tr {\n",
       "  text-align: right;\n",
       "  white-space: pre-wrap;\n",
       "}\n",
       "</style>\n",
       "<small>shape: (441_709, 2)</small><table border=\"1\" class=\"dataframe\"><thead><tr><th>LATITUDE</th><th>LONGITUDE</th></tr><tr><td>f64</td><td>f64</td></tr></thead><tbody><tr><td>48.859152</td><td>2.341102</td></tr><tr><td>48.865472</td><td>2.334304</td></tr><tr><td>48.859328</td><td>2.346075</td></tr><tr><td>48.863354</td><td>2.349947</td></tr><tr><td>48.863715</td><td>2.347963</td></tr><tr><td>&hellip;</td><td>&hellip;</td></tr><tr><td>42.621339</td><td>8.945191</td></tr><tr><td>42.631096</td><td>8.950363</td></tr><tr><td>42.546474</td><td>8.913547</td></tr><tr><td>42.552518</td><td>8.950741</td></tr><tr><td>42.549897</td><td>8.949254</td></tr></tbody></table></div>"
      ],
      "text/plain": [
       "shape: (441_709, 2)\n",
       "┌───────────┬───────────┐\n",
       "│ LATITUDE  ┆ LONGITUDE │\n",
       "│ ---       ┆ ---       │\n",
       "│ f64       ┆ f64       │\n",
       "╞═══════════╪═══════════╡\n",
       "│ 48.859152 ┆ 2.341102  │\n",
       "│ 48.865472 ┆ 2.334304  │\n",
       "│ 48.859328 ┆ 2.346075  │\n",
       "│ 48.863354 ┆ 2.349947  │\n",
       "│ 48.863715 ┆ 2.347963  │\n",
       "│ …         ┆ …         │\n",
       "│ 42.621339 ┆ 8.945191  │\n",
       "│ 42.631096 ┆ 8.950363  │\n",
       "│ 42.546474 ┆ 8.913547  │\n",
       "│ 42.552518 ┆ 8.950741  │\n",
       "│ 42.549897 ┆ 8.949254  │\n",
       "└───────────┴───────────┘"
      ]
     },
     "execution_count": 6,
     "metadata": {},
     "output_type": "execute_result"
    }
   ],
   "source": [
    "df_filtered.select([\"LATITUDE\", \"LONGITUDE\"])"
   ]
  },
  {
   "cell_type": "markdown",
   "metadata": {},
   "source": [
    "Les équipements de santé sont dans les variables :\n",
    "- DOM : D\n",
    "- SDOM : D1, D2, D3\n",
    "- TYPEQU : D101, D102, D103, D108, D113"
   ]
  },
  {
   "cell_type": "markdown",
   "metadata": {},
   "source": [
    "Variables importantes :\n",
    "- DOM : Domaine d’appartenance de l’équipement\n",
    "- SDOM : Sous-domaine d’appartenance de l’équipement\n",
    "- TYPEQU : Type d’équipement \n",
    "- DENS3 : Grille communale de densité à 3 niveaux\n",
    "- DENS7 : Grille communale de densité à 7 niveaux\n",
    "- AAV2020 : Zonage en aire d’attraction des villes 2020 d’implantation de l’équipement\n",
    "- QP : Quartier prioritaire de la politique de la ville d’appartenance de l’équipement\n",
    "- QP2015 : Quartier prioritaire de la politique de la ville 2015 d’appartenance de l’équipement\n",
    "- LATITUDE : Latitude en coordonnées GPS de l’équipement (degrés décimaux)\n",
    "- LONGITUDE : Longitude en coordonnées GPS de l’équipement (degrés décimaux)\n",
    "- CODPOS : Code postal de l’adresse d’implantation de l’équipement\n",
    "- LIBCOM : Libellé de la commune d’implantation de l’équipement"
   ]
  },
  {
   "cell_type": "markdown",
   "metadata": {},
   "source": [
    "# Fusion avec BDD des villes bénéficiaires"
   ]
  },
  {
   "cell_type": "code",
   "execution_count": 7,
   "metadata": {},
   "outputs": [],
   "source": [
    "data_path_vb = os.path.join(data, \"programme-petites-villes-de-demain-liste-des-villes-beneficiaires.csv\")"
   ]
  },
  {
   "cell_type": "code",
   "execution_count": 8,
   "metadata": {},
   "outputs": [],
   "source": [
    "df_vb = pl.scan_csv(data_path_vb, separator=\";\",\n",
    "                    schema_overrides={\n",
    "                        \"Code Officiel Département\": pl.Utf8,\n",
    "                    })"
   ]
  },
  {
   "cell_type": "code",
   "execution_count": 9,
   "metadata": {},
   "outputs": [
    {
     "data": {
      "text/plain": [
       "['insee_com',\n",
       " 'lib_com',\n",
       " 'id_pvd',\n",
       " 'date_signature',\n",
       " 'Nom Officiel Région',\n",
       " 'Code Officiel Département',\n",
       " 'Nom Officiel Département',\n",
       " 'Nom Officiel EPCI',\n",
       " 'Code Officiel Région',\n",
       " 'Code Officiel EPCI',\n",
       " 'Geo Point',\n",
       " 'Geo Shape']"
      ]
     },
     "execution_count": 9,
     "metadata": {},
     "output_type": "execute_result"
    }
   ],
   "source": [
    "df_vb.collect_schema().names()"
   ]
  },
  {
   "cell_type": "code",
   "execution_count": 45,
   "metadata": {},
   "outputs": [],
   "source": [
    "df_vb_filtered = (\n",
    "    df_vb.rename({\n",
    "        \"lib_com\" : \"LIBCOM\",\n",
    "        \"Code Officiel Département\" : \"DEP\",\n",
    "        \"Code Officiel Région\" : \"REG\"\n",
    "    })\n",
    "    .with_columns([\n",
    "        pl.col(\"Geo Point\").str.split(\", \").list.get(0).cast(pl.Float64).alias(\"LATITUDE\"),\n",
    "        pl.col(\"Geo Point\").str.split(\", \").list.get(1).cast(pl.Float64).alias(\"LONGITUDE\"),\n",
    "        pl.col(\"REG\").cast(str),\n",
    "        pl.col(\"LIBCOM\").str.to_lowercase()\n",
    "    ])\n",
    "    .filter(\n",
    "        (pl.col(\"LATITUDE\") > 41) & (pl.col(\"LATITUDE\") < 52) &\n",
    "        (pl.col(\"LONGITUDE\") > -5) & (pl.col(\"LONGITUDE\") < 9),\n",
    "    )\n",
    "    \n",
    "    .select(\n",
    "        [\"LIBCOM\", \"DEP\", \"REG\", \"LATITUDE\", \"LONGITUDE\"]\n",
    "    )\n",
    "    .collect()\n",
    ")\n"
   ]
  },
  {
   "cell_type": "code",
   "execution_count": 37,
   "metadata": {},
   "outputs": [
    {
     "data": {
      "text/plain": [
       "polars.dataframe.frame.DataFrame"
      ]
     },
     "execution_count": 37,
     "metadata": {},
     "output_type": "execute_result"
    }
   ],
   "source": [
    "type(df_vb_filtered)"
   ]
  },
  {
   "cell_type": "code",
   "execution_count": null,
   "metadata": {},
   "outputs": [],
   "source": [
    "df_vb_sante = df_filtered.join(\n",
    "    other = df_vb_filtered, \n",
    "    on =[\"LIBCOM\", \"DEP\", \"REG\"],  \n",
    "    how = \"inner\"\n",
    ")"
   ]
  },
  {
   "cell_type": "code",
   "execution_count": 52,
   "metadata": {},
   "outputs": [
    {
     "data": {
      "text/html": [
       "<div><style>\n",
       ".dataframe > thead > tr,\n",
       ".dataframe > tbody > tr {\n",
       "  text-align: right;\n",
       "  white-space: pre-wrap;\n",
       "}\n",
       "</style>\n",
       "<small>shape: (63_501, 16)</small><table border=\"1\" class=\"dataframe\"><thead><tr><th>DOM</th><th>SDOM</th><th>TYPEQU</th><th>DENS3</th><th>DENS7</th><th>AAV2020</th><th>QP</th><th>QP2015</th><th>LATITUDE</th><th>LONGITUDE</th><th>CODPOS</th><th>DEP</th><th>REG</th><th>LIBCOM</th><th>LATITUDE_right</th><th>LONGITUDE_right</th></tr><tr><td>str</td><td>str</td><td>str</td><td>str</td><td>str</td><td>str</td><td>str</td><td>str</td><td>f64</td><td>f64</td><td>str</td><td>str</td><td>str</td><td>str</td><td>f64</td><td>f64</td></tr></thead><tbody><tr><td>&quot;D&quot;</td><td>&quot;D2&quot;</td><td>&quot;D201&quot;</td><td>&quot;3&quot;</td><td>&quot;5&quot;</td><td>&quot;001&quot;</td><td>&quot;CSZ&quot;</td><td>&quot;CSZ&quot;</td><td>48.413538</td><td>3.237936</td><td>&quot;77480&quot;</td><td>&quot;77&quot;</td><td>&quot;11&quot;</td><td>&quot;bray-sur-seine&quot;</td><td>48.414018</td><td>3.242865</td></tr><tr><td>&quot;D&quot;</td><td>&quot;D2&quot;</td><td>&quot;D201&quot;</td><td>&quot;3&quot;</td><td>&quot;5&quot;</td><td>&quot;001&quot;</td><td>&quot;CSZ&quot;</td><td>&quot;CSZ&quot;</td><td>48.41557</td><td>3.239829</td><td>&quot;77480&quot;</td><td>&quot;77&quot;</td><td>&quot;11&quot;</td><td>&quot;bray-sur-seine&quot;</td><td>48.414018</td><td>3.242865</td></tr><tr><td>&quot;D&quot;</td><td>&quot;D2&quot;</td><td>&quot;D221&quot;</td><td>&quot;3&quot;</td><td>&quot;5&quot;</td><td>&quot;001&quot;</td><td>&quot;CSZ&quot;</td><td>&quot;CSZ&quot;</td><td>48.41557</td><td>3.239829</td><td>&quot;77480&quot;</td><td>&quot;77&quot;</td><td>&quot;11&quot;</td><td>&quot;bray-sur-seine&quot;</td><td>48.414018</td><td>3.242865</td></tr><tr><td>&quot;D&quot;</td><td>&quot;D2&quot;</td><td>&quot;D231&quot;</td><td>&quot;3&quot;</td><td>&quot;5&quot;</td><td>&quot;001&quot;</td><td>&quot;CSZ&quot;</td><td>&quot;CSZ&quot;</td><td>48.41557</td><td>3.239829</td><td>&quot;77480&quot;</td><td>&quot;77&quot;</td><td>&quot;11&quot;</td><td>&quot;bray-sur-seine&quot;</td><td>48.414018</td><td>3.242865</td></tr><tr><td>&quot;D&quot;</td><td>&quot;D2&quot;</td><td>&quot;D233&quot;</td><td>&quot;3&quot;</td><td>&quot;5&quot;</td><td>&quot;001&quot;</td><td>&quot;CSZ&quot;</td><td>&quot;CSZ&quot;</td><td>48.415632</td><td>3.2373</td><td>&quot;77480&quot;</td><td>&quot;77&quot;</td><td>&quot;11&quot;</td><td>&quot;bray-sur-seine&quot;</td><td>48.414018</td><td>3.242865</td></tr><tr><td>&hellip;</td><td>&hellip;</td><td>&hellip;</td><td>&hellip;</td><td>&hellip;</td><td>&hellip;</td><td>&hellip;</td><td>&hellip;</td><td>&hellip;</td><td>&hellip;</td><td>&hellip;</td><td>&hellip;</td><td>&hellip;</td><td>&hellip;</td><td>&hellip;</td><td>&hellip;</td></tr><tr><td>&quot;D&quot;</td><td>&quot;D3&quot;</td><td>&quot;D302&quot;</td><td>&quot;3&quot;</td><td>&quot;5&quot;</td><td>&quot;495&quot;</td><td>&quot;CSZ&quot;</td><td>&quot;CSZ&quot;</td><td>42.627619</td><td>8.937875</td><td>&quot;20220&quot;</td><td>&quot;2B&quot;</td><td>&quot;94&quot;</td><td>&quot;l&#x27;île-rousse&quot;</td><td>42.631678</td><td>8.933932</td></tr><tr><td>&quot;D&quot;</td><td>&quot;D3&quot;</td><td>&quot;D303&quot;</td><td>&quot;3&quot;</td><td>&quot;5&quot;</td><td>&quot;495&quot;</td><td>&quot;CSZ&quot;</td><td>&quot;CSZ&quot;</td><td>42.628741</td><td>8.924511</td><td>&quot;20220&quot;</td><td>&quot;2B&quot;</td><td>&quot;94&quot;</td><td>&quot;l&#x27;île-rousse&quot;</td><td>42.631678</td><td>8.933932</td></tr><tr><td>&quot;D&quot;</td><td>&quot;D3&quot;</td><td>&quot;D307&quot;</td><td>&quot;3&quot;</td><td>&quot;5&quot;</td><td>&quot;495&quot;</td><td>&quot;CSZ&quot;</td><td>&quot;CSZ&quot;</td><td>42.633854</td><td>8.938551</td><td>&quot;20220&quot;</td><td>&quot;2B&quot;</td><td>&quot;94&quot;</td><td>&quot;l&#x27;île-rousse&quot;</td><td>42.631678</td><td>8.933932</td></tr><tr><td>&quot;D&quot;</td><td>&quot;D3&quot;</td><td>&quot;D307&quot;</td><td>&quot;3&quot;</td><td>&quot;5&quot;</td><td>&quot;495&quot;</td><td>&quot;CSZ&quot;</td><td>&quot;CSZ&quot;</td><td>42.630339</td><td>8.929395</td><td>&quot;20220&quot;</td><td>&quot;2B&quot;</td><td>&quot;94&quot;</td><td>&quot;l&#x27;île-rousse&quot;</td><td>42.631678</td><td>8.933932</td></tr><tr><td>&quot;D&quot;</td><td>&quot;D3&quot;</td><td>&quot;D307&quot;</td><td>&quot;3&quot;</td><td>&quot;5&quot;</td><td>&quot;495&quot;</td><td>&quot;CSZ&quot;</td><td>&quot;CSZ&quot;</td><td>42.633879</td><td>8.938022</td><td>&quot;20220&quot;</td><td>&quot;2B&quot;</td><td>&quot;94&quot;</td><td>&quot;l&#x27;île-rousse&quot;</td><td>42.631678</td><td>8.933932</td></tr></tbody></table></div>"
      ],
      "text/plain": [
       "shape: (63_501, 16)\n",
       "┌─────┬──────┬────────┬───────┬───┬─────┬────────────────┬────────────────┬─────────────────┐\n",
       "│ DOM ┆ SDOM ┆ TYPEQU ┆ DENS3 ┆ … ┆ REG ┆ LIBCOM         ┆ LATITUDE_right ┆ LONGITUDE_right │\n",
       "│ --- ┆ ---  ┆ ---    ┆ ---   ┆   ┆ --- ┆ ---            ┆ ---            ┆ ---             │\n",
       "│ str ┆ str  ┆ str    ┆ str   ┆   ┆ str ┆ str            ┆ f64            ┆ f64             │\n",
       "╞═════╪══════╪════════╪═══════╪═══╪═════╪════════════════╪════════════════╪═════════════════╡\n",
       "│ D   ┆ D2   ┆ D201   ┆ 3     ┆ … ┆ 11  ┆ bray-sur-seine ┆ 48.414018      ┆ 3.242865        │\n",
       "│ D   ┆ D2   ┆ D201   ┆ 3     ┆ … ┆ 11  ┆ bray-sur-seine ┆ 48.414018      ┆ 3.242865        │\n",
       "│ D   ┆ D2   ┆ D221   ┆ 3     ┆ … ┆ 11  ┆ bray-sur-seine ┆ 48.414018      ┆ 3.242865        │\n",
       "│ D   ┆ D2   ┆ D231   ┆ 3     ┆ … ┆ 11  ┆ bray-sur-seine ┆ 48.414018      ┆ 3.242865        │\n",
       "│ D   ┆ D2   ┆ D233   ┆ 3     ┆ … ┆ 11  ┆ bray-sur-seine ┆ 48.414018      ┆ 3.242865        │\n",
       "│ …   ┆ …    ┆ …      ┆ …     ┆ … ┆ …   ┆ …              ┆ …              ┆ …               │\n",
       "│ D   ┆ D3   ┆ D302   ┆ 3     ┆ … ┆ 94  ┆ l'île-rousse   ┆ 42.631678      ┆ 8.933932        │\n",
       "│ D   ┆ D3   ┆ D303   ┆ 3     ┆ … ┆ 94  ┆ l'île-rousse   ┆ 42.631678      ┆ 8.933932        │\n",
       "│ D   ┆ D3   ┆ D307   ┆ 3     ┆ … ┆ 94  ┆ l'île-rousse   ┆ 42.631678      ┆ 8.933932        │\n",
       "│ D   ┆ D3   ┆ D307   ┆ 3     ┆ … ┆ 94  ┆ l'île-rousse   ┆ 42.631678      ┆ 8.933932        │\n",
       "│ D   ┆ D3   ┆ D307   ┆ 3     ┆ … ┆ 94  ┆ l'île-rousse   ┆ 42.631678      ┆ 8.933932        │\n",
       "└─────┴──────┴────────┴───────┴───┴─────┴────────────────┴────────────────┴─────────────────┘"
      ]
     },
     "execution_count": 52,
     "metadata": {},
     "output_type": "execute_result"
    }
   ],
   "source": [
    "df_vb_sante"
   ]
  },
  {
   "cell_type": "code",
   "execution_count": 51,
   "metadata": {},
   "outputs": [
    {
     "data": {
      "text/plain": [
       "(1596, 16)"
      ]
     },
     "execution_count": 51,
     "metadata": {},
     "output_type": "execute_result"
    }
   ],
   "source": [
    "df_vb_sante.unique(\"LIBCOM\").shape"
   ]
  },
  {
   "cell_type": "markdown",
   "metadata": {},
   "source": [
    "# Groupby pour savoir cb d'équipement sont dans chaque ville "
   ]
  },
  {
   "cell_type": "code",
   "execution_count": 63,
   "metadata": {},
   "outputs": [
    {
     "data": {
      "text/html": [
       "<div><style>\n",
       ".dataframe > thead > tr,\n",
       ".dataframe > tbody > tr {\n",
       "  text-align: right;\n",
       "  white-space: pre-wrap;\n",
       "}\n",
       "</style>\n",
       "<small>shape: (1_596, 2)</small><table border=\"1\" class=\"dataframe\"><thead><tr><th>by</th><th>count_DOM</th></tr><tr><td>str</td><td>u32</td></tr></thead><tbody><tr><td>&quot;auray&quot;</td><td>258</td></tr><tr><td>&quot;challans&quot;</td><td>233</td></tr><tr><td>&quot;sallanches&quot;</td><td>209</td></tr><tr><td>&quot;l&#x27;isle-sur-la-sorgue&quot;</td><td>199</td></tr><tr><td>&quot;albertville&quot;</td><td>199</td></tr><tr><td>&hellip;</td><td>&hellip;</td></tr><tr><td>&quot;banassac-canilhac&quot;</td><td>2</td></tr><tr><td>&quot;cayres&quot;</td><td>2</td></tr><tr><td>&quot;bel-air-val-d&#x27;ance&quot;</td><td>1</td></tr><tr><td>&quot;montbizot&quot;</td><td>1</td></tr><tr><td>&quot;barembach&quot;</td><td>1</td></tr></tbody></table></div>"
      ],
      "text/plain": [
       "shape: (1_596, 2)\n",
       "┌──────────────────────┬───────────┐\n",
       "│ by                   ┆ count_DOM │\n",
       "│ ---                  ┆ ---       │\n",
       "│ str                  ┆ u32       │\n",
       "╞══════════════════════╪═══════════╡\n",
       "│ auray                ┆ 258       │\n",
       "│ challans             ┆ 233       │\n",
       "│ sallanches           ┆ 209       │\n",
       "│ l'isle-sur-la-sorgue ┆ 199       │\n",
       "│ albertville          ┆ 199       │\n",
       "│ …                    ┆ …         │\n",
       "│ banassac-canilhac    ┆ 2         │\n",
       "│ cayres               ┆ 2         │\n",
       "│ bel-air-val-d'ance   ┆ 1         │\n",
       "│ montbizot            ┆ 1         │\n",
       "│ barembach            ┆ 1         │\n",
       "└──────────────────────┴───────────┘"
      ]
     },
     "execution_count": 63,
     "metadata": {},
     "output_type": "execute_result"
    }
   ],
   "source": [
    "df_vb_sante.group_by(\n",
    "    by = \"LIBCOM\"\n",
    ").agg(\n",
    "    pl.col(\"DOM\").count().alias(\"count_DOM\")\n",
    ").sort(\"count_DOM\", descending=True)"
   ]
  },
  {
   "cell_type": "markdown",
   "metadata": {},
   "source": [
    "# DuckDB"
   ]
  },
  {
   "cell_type": "code",
   "execution_count": null,
   "metadata": {},
   "outputs": [],
   "source": [
    "df = pl.scan_parquet(data_path_equipement)"
   ]
  },
  {
   "cell_type": "code",
   "execution_count": 5,
   "metadata": {},
   "outputs": [],
   "source": [
    "df_filtered = df.select([\n",
    "    \"DOM\", \"SDOM\", \"TYPEQU\", \"CAPACITE\", \"ACCES_SANITAIRE\", \"PRES_SANITAIRE\",\n",
    "    \"DENS3\", \"DENS7\", \"AAV2020\", \"QP\", \"QP2015\", \"LATITUDE\", \"LONGITUDE\",\n",
    "    \"CODPOS\", \"LIBCOM\"\n",
    "])\n"
   ]
  },
  {
   "cell_type": "code",
   "execution_count": 6,
   "metadata": {},
   "outputs": [],
   "source": [
    "df_filtered = df_filtered.collect()"
   ]
  },
  {
   "cell_type": "code",
   "execution_count": 7,
   "metadata": {},
   "outputs": [
    {
     "data": {
      "text/plain": [
       "<duckdb.duckdb.DuckDBPyConnection at 0x2cf1cd1fb70>"
      ]
     },
     "execution_count": 7,
     "metadata": {},
     "output_type": "execute_result"
    }
   ],
   "source": [
    "con = db.connect(database=':memory:')\n",
    "con.register('df', df_filtered)"
   ]
  },
  {
   "cell_type": "code",
   "execution_count": 8,
   "metadata": {},
   "outputs": [],
   "source": [
    "query = \"\"\"\n",
    "SELECT *\n",
    "FROM df\n",
    "WHERE\n",
    "    DOM = 'D'\n",
    "    OR SDOM IN ('D1', 'D2', 'D3')\n",
    "    OR TYPEQU IN ('D101', 'D102', 'D103', 'D108', 'D113')\n",
    "    OR ACCES_SANITAIRE = '1'\n",
    "    OR PRES_SANITAIRE = '1'\n",
    "\"\"\""
   ]
  },
  {
   "cell_type": "code",
   "execution_count": 9,
   "metadata": {},
   "outputs": [
    {
     "ename": "",
     "evalue": "",
     "output_type": "error",
     "traceback": [
      "\u001b[1;31mThe Kernel crashed while executing code in the current cell or a previous cell. \n",
      "\u001b[1;31mPlease review the code in the cell(s) to identify a possible cause of the failure. \n",
      "\u001b[1;31mClick <a href='https://aka.ms/vscodeJupyterKernelCrash'>here</a> for more info. \n",
      "\u001b[1;31mView Jupyter <a href='command:jupyter.viewOutput'>log</a> for further details."
     ]
    }
   ],
   "source": [
    "df_sante = con.execute(query).fetchdf()"
   ]
  }
 ],
 "metadata": {
  "kernelspec": {
   "display_name": ".venv",
   "language": "python",
   "name": "python3"
  },
  "language_info": {
   "codemirror_mode": {
    "name": "ipython",
    "version": 3
   },
   "file_extension": ".py",
   "mimetype": "text/x-python",
   "name": "python",
   "nbconvert_exporter": "python",
   "pygments_lexer": "ipython3",
   "version": "3.13.1"
  }
 },
 "nbformat": 4,
 "nbformat_minor": 2
}
