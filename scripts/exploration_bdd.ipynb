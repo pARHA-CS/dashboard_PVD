{
 "cells": [
  {
   "cell_type": "code",
   "execution_count": 2,
   "metadata": {},
   "outputs": [],
   "source": [
    "import polars as pl\n",
    "import os\n",
    "import duckdb as db"
   ]
  },
  {
   "cell_type": "markdown",
   "metadata": {},
   "source": [
    "# Chemin data"
   ]
  },
  {
   "cell_type": "code",
   "execution_count": 3,
   "metadata": {},
   "outputs": [],
   "source": [
    "current_dir = os.getcwd()\n",
    "parent_dir = os.path.dirname(current_dir)\n",
    "data = os.path.join(parent_dir, \"data\")\n",
    "data_path = os.path.join(data, \"BPE23.parquet\")"
   ]
  },
  {
   "cell_type": "markdown",
   "metadata": {},
   "source": [
    "# BDD"
   ]
  },
  {
   "cell_type": "code",
   "execution_count": 4,
   "metadata": {},
   "outputs": [],
   "source": [
    "df = pl.scan_parquet(data_path)"
   ]
  },
  {
   "cell_type": "code",
   "execution_count": 7,
   "metadata": {},
   "outputs": [],
   "source": [
    "df_filtered = df.filter(\n",
    "    (pl.col(\"DOM\") == \"D\") |\n",
    "    (pl.col(\"SDOM\").is_in([\"D1\", \"D2\", \"D3\"])) |\n",
    "    (pl.col(\"TYPEQU\").is_in([\"D101\", \"D102\", \"D103\", \"D108\", \"D113\"])) |\n",
    "    (pl.col(\"ACCES_SANITAIRE\") == \"1\") |\n",
    "    (pl.col(\"PRES_SANITAIRE\") == \"1\")\n",
    ").select([\n",
    "    \"DOM\", \"SDOM\", \"TYPEQU\", \"CAPACITE\", \"ACCES_SANITAIRE\", \"PRES_SANITAIRE\",\n",
    "    \"DENS3\", \"DENS7\", \"AAV2020\", \"QP\", \"QP2015\", \"LATITUDE\", \"LONGITUDE\",\n",
    "    \"CODPOS\", \"LIBCOM\"\n",
    "]).collect()\n"
   ]
  },
  {
   "cell_type": "code",
   "execution_count": 8,
   "metadata": {},
   "outputs": [
    {
     "data": {
      "text/html": [
       "<div><style>\n",
       ".dataframe > thead > tr,\n",
       ".dataframe > tbody > tr {\n",
       "  text-align: right;\n",
       "  white-space: pre-wrap;\n",
       "}\n",
       "</style>\n",
       "<small>shape: (705_956, 15)</small><table border=\"1\" class=\"dataframe\"><thead><tr><th>DOM</th><th>SDOM</th><th>TYPEQU</th><th>CAPACITE</th><th>ACCES_SANITAIRE</th><th>PRES_SANITAIRE</th><th>DENS3</th><th>DENS7</th><th>AAV2020</th><th>QP</th><th>QP2015</th><th>LATITUDE</th><th>LONGITUDE</th><th>CODPOS</th><th>LIBCOM</th></tr><tr><td>str</td><td>str</td><td>str</td><td>f64</td><td>str</td><td>str</td><td>str</td><td>str</td><td>str</td><td>str</td><td>str</td><td>f64</td><td>f64</td><td>str</td><td>str</td></tr></thead><tbody><tr><td>&quot;D&quot;</td><td>&quot;D1&quot;</td><td>&quot;D101&quot;</td><td>null</td><td>&quot;_Z&quot;</td><td>&quot;_Z&quot;</td><td>&quot;2&quot;</td><td>&quot;2&quot;</td><td>&quot;9A1&quot;</td><td>&quot;IND&quot;</td><td>&quot;QP971014&quot;</td><td>16.232796</td><td>-61.529615</td><td>&quot;97139&quot;</td><td>&quot;LES ABYMES&quot;</td></tr><tr><td>&quot;D&quot;</td><td>&quot;D1&quot;</td><td>&quot;D101&quot;</td><td>null</td><td>&quot;_Z&quot;</td><td>&quot;_Z&quot;</td><td>&quot;2&quot;</td><td>&quot;2&quot;</td><td>&quot;9A1&quot;</td><td>&quot;IND&quot;</td><td>&quot;QP971014&quot;</td><td>16.236421</td><td>-61.528087</td><td>&quot;97139&quot;</td><td>&quot;LES ABYMES&quot;</td></tr><tr><td>&quot;D&quot;</td><td>&quot;D1&quot;</td><td>&quot;D101&quot;</td><td>null</td><td>&quot;_Z&quot;</td><td>&quot;_Z&quot;</td><td>&quot;2&quot;</td><td>&quot;2&quot;</td><td>&quot;9A1&quot;</td><td>&quot;IND&quot;</td><td>&quot;QP971014&quot;</td><td>16.235507</td><td>-61.529595</td><td>&quot;97139&quot;</td><td>&quot;LES ABYMES&quot;</td></tr><tr><td>&quot;D&quot;</td><td>&quot;D1&quot;</td><td>&quot;D102&quot;</td><td>null</td><td>&quot;_Z&quot;</td><td>&quot;_Z&quot;</td><td>&quot;2&quot;</td><td>&quot;2&quot;</td><td>&quot;9A1&quot;</td><td>&quot;IND&quot;</td><td>&quot;HZ&quot;</td><td>16.266926</td><td>-61.510634</td><td>&quot;97139&quot;</td><td>&quot;LES ABYMES&quot;</td></tr><tr><td>&quot;D&quot;</td><td>&quot;D1&quot;</td><td>&quot;D102&quot;</td><td>null</td><td>&quot;_Z&quot;</td><td>&quot;_Z&quot;</td><td>&quot;2&quot;</td><td>&quot;2&quot;</td><td>&quot;9A1&quot;</td><td>&quot;IND&quot;</td><td>&quot;QP971014&quot;</td><td>16.236421</td><td>-61.528087</td><td>&quot;97139&quot;</td><td>&quot;LES ABYMES&quot;</td></tr><tr><td>&hellip;</td><td>&hellip;</td><td>&hellip;</td><td>&hellip;</td><td>&hellip;</td><td>&hellip;</td><td>&hellip;</td><td>&hellip;</td><td>&hellip;</td><td>&hellip;</td><td>&hellip;</td><td>&hellip;</td><td>&hellip;</td><td>&hellip;</td><td>&hellip;</td></tr><tr><td>&quot;D&quot;</td><td>&quot;D2&quot;</td><td>&quot;D201&quot;</td><td>null</td><td>&quot;_Z&quot;</td><td>&quot;_Z&quot;</td><td>&quot;3&quot;</td><td>&quot;6&quot;</td><td>&quot;104&quot;</td><td>&quot;CSZ&quot;</td><td>&quot;CSZ&quot;</td><td>42.508419</td><td>9.370341</td><td>&quot;20290&quot;</td><td>&quot;VOLPAJOLA&quot;</td></tr><tr><td>&quot;D&quot;</td><td>&quot;D5&quot;</td><td>&quot;D505&quot;</td><td>null</td><td>&quot;_Z&quot;</td><td>&quot;_Z&quot;</td><td>&quot;3&quot;</td><td>&quot;6&quot;</td><td>&quot;104&quot;</td><td>&quot;CSZ&quot;</td><td>&quot;CSZ&quot;</td><td>42.510327</td><td>9.352729</td><td>&quot;20290&quot;</td><td>&quot;VOLPAJOLA&quot;</td></tr><tr><td>&quot;F&quot;</td><td>&quot;F1&quot;</td><td>&quot;F118&quot;</td><td>null</td><td>&quot;0&quot;</td><td>&quot;1&quot;</td><td>&quot;3&quot;</td><td>&quot;6&quot;</td><td>&quot;104&quot;</td><td>&quot;CSZ&quot;</td><td>&quot;CSZ&quot;</td><td>42.50685</td><td>9.37334</td><td>&quot;20290&quot;</td><td>&quot;VOLPAJOLA&quot;</td></tr><tr><td>&quot;F&quot;</td><td>&quot;F1&quot;</td><td>&quot;F101&quot;</td><td>null</td><td>&quot;0&quot;</td><td>&quot;1&quot;</td><td>&quot;3&quot;</td><td>&quot;7&quot;</td><td>&quot;414&quot;</td><td>&quot;CSZ&quot;</td><td>&quot;CSZ&quot;</td><td>42.27472</td><td>9.34262</td><td>&quot;20272&quot;</td><td>&quot;ZUANI&quot;</td></tr><tr><td>&quot;D&quot;</td><td>&quot;D2&quot;</td><td>&quot;D233&quot;</td><td>null</td><td>&quot;_Z&quot;</td><td>&quot;_Z&quot;</td><td>&quot;3&quot;</td><td>&quot;6&quot;</td><td>&quot;CSZ&quot;</td><td>&quot;CSZ&quot;</td><td>&quot;CSZ&quot;</td><td>41.918354</td><td>9.257016</td><td>&quot;20240&quot;</td><td>&quot;CHISA&quot;</td></tr></tbody></table></div>"
      ],
      "text/plain": [
       "shape: (705_956, 15)\n",
       "┌─────┬──────┬────────┬──────────┬───┬───────────┬────────────┬────────┬────────────┐\n",
       "│ DOM ┆ SDOM ┆ TYPEQU ┆ CAPACITE ┆ … ┆ LATITUDE  ┆ LONGITUDE  ┆ CODPOS ┆ LIBCOM     │\n",
       "│ --- ┆ ---  ┆ ---    ┆ ---      ┆   ┆ ---       ┆ ---        ┆ ---    ┆ ---        │\n",
       "│ str ┆ str  ┆ str    ┆ f64      ┆   ┆ f64       ┆ f64        ┆ str    ┆ str        │\n",
       "╞═════╪══════╪════════╪══════════╪═══╪═══════════╪════════════╪════════╪════════════╡\n",
       "│ D   ┆ D1   ┆ D101   ┆ null     ┆ … ┆ 16.232796 ┆ -61.529615 ┆ 97139  ┆ LES ABYMES │\n",
       "│ D   ┆ D1   ┆ D101   ┆ null     ┆ … ┆ 16.236421 ┆ -61.528087 ┆ 97139  ┆ LES ABYMES │\n",
       "│ D   ┆ D1   ┆ D101   ┆ null     ┆ … ┆ 16.235507 ┆ -61.529595 ┆ 97139  ┆ LES ABYMES │\n",
       "│ D   ┆ D1   ┆ D102   ┆ null     ┆ … ┆ 16.266926 ┆ -61.510634 ┆ 97139  ┆ LES ABYMES │\n",
       "│ D   ┆ D1   ┆ D102   ┆ null     ┆ … ┆ 16.236421 ┆ -61.528087 ┆ 97139  ┆ LES ABYMES │\n",
       "│ …   ┆ …    ┆ …      ┆ …        ┆ … ┆ …         ┆ …          ┆ …      ┆ …          │\n",
       "│ D   ┆ D2   ┆ D201   ┆ null     ┆ … ┆ 42.508419 ┆ 9.370341   ┆ 20290  ┆ VOLPAJOLA  │\n",
       "│ D   ┆ D5   ┆ D505   ┆ null     ┆ … ┆ 42.510327 ┆ 9.352729   ┆ 20290  ┆ VOLPAJOLA  │\n",
       "│ F   ┆ F1   ┆ F118   ┆ null     ┆ … ┆ 42.50685  ┆ 9.37334    ┆ 20290  ┆ VOLPAJOLA  │\n",
       "│ F   ┆ F1   ┆ F101   ┆ null     ┆ … ┆ 42.27472  ┆ 9.34262    ┆ 20272  ┆ ZUANI      │\n",
       "│ D   ┆ D2   ┆ D233   ┆ null     ┆ … ┆ 41.918354 ┆ 9.257016   ┆ 20240  ┆ CHISA      │\n",
       "└─────┴──────┴────────┴──────────┴───┴───────────┴────────────┴────────┴────────────┘"
      ]
     },
     "execution_count": 8,
     "metadata": {},
     "output_type": "execute_result"
    }
   ],
   "source": [
    "df_filtered"
   ]
  },
  {
   "cell_type": "markdown",
   "metadata": {},
   "source": [
    "Les équipements de santé sont dans les variables :\n",
    "    - DOM : D\n",
    "    - SDOM : D1, D2, D3\n",
    "    - TYPEQU : D101, D102, D103, D108, D113"
   ]
  },
  {
   "cell_type": "markdown",
   "metadata": {},
   "source": [
    "variables importantes :\n",
    "    - DOM  \n",
    "    - SDOM \n",
    "    - TYPEQU \n",
    "    - CAPACITE \n",
    "    - ACCES_SANITAIRE \n",
    "    - PRES_SANITAIRE \n",
    "    - DENS3 \n",
    "    - DENS7\n",
    "    - AAV2020 \n",
    "    - QP & QP2015\n",
    "    - LATITUDE & LONGITUDE \n",
    "    - CODPOS \n",
    "    - LIBCOM "
   ]
  },
  {
   "cell_type": "markdown",
   "metadata": {},
   "source": [
    "# DuckDB"
   ]
  },
  {
   "cell_type": "code",
   "execution_count": 4,
   "metadata": {},
   "outputs": [],
   "source": [
    "df = pl.scan_parquet(data_path)"
   ]
  },
  {
   "cell_type": "code",
   "execution_count": 5,
   "metadata": {},
   "outputs": [],
   "source": [
    "df_filtered = df.select([\n",
    "    \"DOM\", \"SDOM\", \"TYPEQU\", \"CAPACITE\", \"ACCES_SANITAIRE\", \"PRES_SANITAIRE\",\n",
    "    \"DENS3\", \"DENS7\", \"AAV2020\", \"QP\", \"QP2015\", \"LATITUDE\", \"LONGITUDE\",\n",
    "    \"CODPOS\", \"LIBCOM\"\n",
    "])\n"
   ]
  },
  {
   "cell_type": "code",
   "execution_count": 6,
   "metadata": {},
   "outputs": [],
   "source": [
    "df_filtered = df_filtered.collect()"
   ]
  },
  {
   "cell_type": "code",
   "execution_count": 7,
   "metadata": {},
   "outputs": [
    {
     "data": {
      "text/plain": [
       "<duckdb.duckdb.DuckDBPyConnection at 0x2cf1cd1fb70>"
      ]
     },
     "execution_count": 7,
     "metadata": {},
     "output_type": "execute_result"
    }
   ],
   "source": [
    "con = db.connect(database=':memory:')\n",
    "con.register('df', df_filtered)"
   ]
  },
  {
   "cell_type": "code",
   "execution_count": 8,
   "metadata": {},
   "outputs": [],
   "source": [
    "query = \"\"\"\n",
    "SELECT *\n",
    "FROM df\n",
    "WHERE\n",
    "    DOM = 'D'\n",
    "    OR SDOM IN ('D1', 'D2', 'D3')\n",
    "    OR TYPEQU IN ('D101', 'D102', 'D103', 'D108', 'D113')\n",
    "    OR ACCES_SANITAIRE = '1'\n",
    "    OR PRES_SANITAIRE = '1'\n",
    "\"\"\""
   ]
  },
  {
   "cell_type": "code",
   "execution_count": 9,
   "metadata": {},
   "outputs": [
    {
     "ename": "",
     "evalue": "",
     "output_type": "error",
     "traceback": [
      "\u001b[1;31mThe Kernel crashed while executing code in the current cell or a previous cell. \n",
      "\u001b[1;31mPlease review the code in the cell(s) to identify a possible cause of the failure. \n",
      "\u001b[1;31mClick <a href='https://aka.ms/vscodeJupyterKernelCrash'>here</a> for more info. \n",
      "\u001b[1;31mView Jupyter <a href='command:jupyter.viewOutput'>log</a> for further details."
     ]
    }
   ],
   "source": [
    "df_sante = con.execute(query).fetchdf()"
   ]
  }
 ],
 "metadata": {
  "kernelspec": {
   "display_name": ".venv",
   "language": "python",
   "name": "python3"
  },
  "language_info": {
   "codemirror_mode": {
    "name": "ipython",
    "version": 3
   },
   "file_extension": ".py",
   "mimetype": "text/x-python",
   "name": "python",
   "nbconvert_exporter": "python",
   "pygments_lexer": "ipython3",
   "version": "3.13.1"
  }
 },
 "nbformat": 4,
 "nbformat_minor": 2
}
