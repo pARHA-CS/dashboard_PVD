{
 "cells": [
  {
   "cell_type": "code",
   "execution_count": 2,
   "metadata": {},
   "outputs": [],
   "source": [
    "import polars as pl\n",
    "import os\n",
    "import duckdb as db"
   ]
  },
  {
   "cell_type": "markdown",
   "metadata": {},
   "source": [
    "# Chemin data"
   ]
  },
  {
   "cell_type": "code",
   "execution_count": 3,
   "metadata": {},
   "outputs": [],
   "source": [
    "current_dir = os.getcwd()\n",
    "parent_dir = os.path.dirname(current_dir)\n",
    "data = os.path.join(parent_dir, \"data\")\n",
    "data_path = os.path.join(data, \"BPE23.parquet\")"
   ]
  },
  {
   "cell_type": "markdown",
   "metadata": {},
   "source": [
    "# BDD"
   ]
  },
  {
   "cell_type": "code",
   "execution_count": 4,
   "metadata": {},
   "outputs": [],
   "source": [
    "df = pl.scan_parquet(data_path)"
   ]
  },
  {
   "cell_type": "code",
   "execution_count": 45,
   "metadata": {},
   "outputs": [],
   "source": [
    "df_filtered = df.filter(\n",
    "    (pl.col(\"DOM\") == \"D\"), \n",
    "    (pl.col(\"TYPEQU\").str.contains(\"D\")),\n",
    "    (pl.col(\"SDOM\").is_in([\"D1\", \"D2\", \"D3\"])) |\n",
    "    (pl.col(\"ACCES_SANITAIRE\") == \"1\") |\n",
    "    (pl.col(\"PRES_SANITAIRE\") == \"1\")\n",
    ").select([\n",
    "    \"DOM\", \"SDOM\", \"TYPEQU\", \"CAPACITE\", \"ACCES_SANITAIRE\", \"PRES_SANITAIRE\",\n",
    "    \"DENS3\", \"DENS7\", \"AAV2020\", \"QP\", \"QP2015\", \"LATITUDE\", \"LONGITUDE\",\n",
    "    \"CODPOS\", \"LIBCOM\"\n",
    "]).collect()\n"
   ]
  },
  {
   "cell_type": "code",
   "execution_count": 48,
   "metadata": {},
   "outputs": [
    {
     "data": {
      "text/plain": [
       "['D101',\n",
       " 'D102',\n",
       " 'D103',\n",
       " 'D104',\n",
       " 'D105',\n",
       " 'D106',\n",
       " 'D107',\n",
       " 'D108',\n",
       " 'D109',\n",
       " 'D110',\n",
       " 'D111',\n",
       " 'D112',\n",
       " 'D113',\n",
       " 'D201',\n",
       " 'D202',\n",
       " 'D203',\n",
       " 'D206',\n",
       " 'D207',\n",
       " 'D208',\n",
       " 'D209',\n",
       " 'D210',\n",
       " 'D211',\n",
       " 'D212',\n",
       " 'D213',\n",
       " 'D214',\n",
       " 'D221',\n",
       " 'D231',\n",
       " 'D233',\n",
       " 'D235',\n",
       " 'D236',\n",
       " 'D237',\n",
       " 'D238',\n",
       " 'D239',\n",
       " 'D240',\n",
       " 'D242',\n",
       " 'D243',\n",
       " 'D244',\n",
       " 'D302',\n",
       " 'D303',\n",
       " 'D304',\n",
       " 'D305',\n",
       " 'D307']"
      ]
     },
     "execution_count": 48,
     "metadata": {},
     "output_type": "execute_result"
    }
   ],
   "source": [
    "df_filtered[\"TYPEQU\"].unique().sort().to_list()"
   ]
  },
  {
   "cell_type": "markdown",
   "metadata": {},
   "source": [
    "Les équipements de santé sont dans les variables :\n",
    "    - DOM : D\n",
    "    - SDOM : D1, D2, D3\n",
    "    - TYPEQU : D101, D102, D103, D108, D113"
   ]
  },
  {
   "cell_type": "markdown",
   "metadata": {},
   "source": [
    "variables importantes :\n",
    "    - DOM  \n",
    "    - SDOM \n",
    "    - TYPEQU \n",
    "    - CAPACITE \n",
    "    - ACCES_SANITAIRE \n",
    "    - PRES_SANITAIRE \n",
    "    - DENS3 \n",
    "    - DENS7\n",
    "    - AAV2020 \n",
    "    - QP & QP2015\n",
    "    - LATITUDE & LONGITUDE \n",
    "    - CODPOS \n",
    "    - LIBCOM "
   ]
  },
  {
   "cell_type": "markdown",
   "metadata": {},
   "source": [
    "# DuckDB"
   ]
  },
  {
   "cell_type": "code",
   "execution_count": 4,
   "metadata": {},
   "outputs": [],
   "source": [
    "df = pl.scan_parquet(data_path)"
   ]
  },
  {
   "cell_type": "code",
   "execution_count": 5,
   "metadata": {},
   "outputs": [],
   "source": [
    "df_filtered = df.select([\n",
    "    \"DOM\", \"SDOM\", \"TYPEQU\", \"CAPACITE\", \"ACCES_SANITAIRE\", \"PRES_SANITAIRE\",\n",
    "    \"DENS3\", \"DENS7\", \"AAV2020\", \"QP\", \"QP2015\", \"LATITUDE\", \"LONGITUDE\",\n",
    "    \"CODPOS\", \"LIBCOM\"\n",
    "])\n"
   ]
  },
  {
   "cell_type": "code",
   "execution_count": 6,
   "metadata": {},
   "outputs": [],
   "source": [
    "df_filtered = df_filtered.collect()"
   ]
  },
  {
   "cell_type": "code",
   "execution_count": 7,
   "metadata": {},
   "outputs": [
    {
     "data": {
      "text/plain": [
       "<duckdb.duckdb.DuckDBPyConnection at 0x2cf1cd1fb70>"
      ]
     },
     "execution_count": 7,
     "metadata": {},
     "output_type": "execute_result"
    }
   ],
   "source": [
    "con = db.connect(database=':memory:')\n",
    "con.register('df', df_filtered)"
   ]
  },
  {
   "cell_type": "code",
   "execution_count": 8,
   "metadata": {},
   "outputs": [],
   "source": [
    "query = \"\"\"\n",
    "SELECT *\n",
    "FROM df\n",
    "WHERE\n",
    "    DOM = 'D'\n",
    "    OR SDOM IN ('D1', 'D2', 'D3')\n",
    "    OR TYPEQU IN ('D101', 'D102', 'D103', 'D108', 'D113')\n",
    "    OR ACCES_SANITAIRE = '1'\n",
    "    OR PRES_SANITAIRE = '1'\n",
    "\"\"\""
   ]
  },
  {
   "cell_type": "code",
   "execution_count": 9,
   "metadata": {},
   "outputs": [
    {
     "ename": "",
     "evalue": "",
     "output_type": "error",
     "traceback": [
      "\u001b[1;31mThe Kernel crashed while executing code in the current cell or a previous cell. \n",
      "\u001b[1;31mPlease review the code in the cell(s) to identify a possible cause of the failure. \n",
      "\u001b[1;31mClick <a href='https://aka.ms/vscodeJupyterKernelCrash'>here</a> for more info. \n",
      "\u001b[1;31mView Jupyter <a href='command:jupyter.viewOutput'>log</a> for further details."
     ]
    }
   ],
   "source": [
    "df_sante = con.execute(query).fetchdf()"
   ]
  }
 ],
 "metadata": {
  "kernelspec": {
   "display_name": ".venv",
   "language": "python",
   "name": "python3"
  },
  "language_info": {
   "codemirror_mode": {
    "name": "ipython",
    "version": 3
   },
   "file_extension": ".py",
   "mimetype": "text/x-python",
   "name": "python",
   "nbconvert_exporter": "python",
   "pygments_lexer": "ipython3",
   "version": "3.13.1"
  }
 },
 "nbformat": 4,
 "nbformat_minor": 2
}
