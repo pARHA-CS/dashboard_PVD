{
 "cells": [
  {
   "cell_type": "code",
   "execution_count": 2,
   "metadata": {},
   "outputs": [],
   "source": [
    "import polars as pl\n",
    "import os\n",
    "import duckdb as db"
   ]
  },
  {
   "cell_type": "markdown",
   "metadata": {},
   "source": [
    "# Chemin data"
   ]
  },
  {
   "cell_type": "code",
   "execution_count": 3,
   "metadata": {},
   "outputs": [],
   "source": [
    "current_dir = os.getcwd()\n",
    "parent_dir = os.path.dirname(current_dir)\n",
    "data = os.path.join(parent_dir, \"data\")\n",
    "data_path = os.path.join(data, \"BPE23.parquet\")"
   ]
  },
  {
   "cell_type": "markdown",
   "metadata": {},
   "source": [
    "# BDD"
   ]
  },
  {
   "cell_type": "code",
   "execution_count": null,
   "metadata": {},
   "outputs": [],
   "source": [
    "df = pl.scan_parquet(data_path)"
   ]
  },
  {
   "cell_type": "code",
   "execution_count": 8,
   "metadata": {},
   "outputs": [],
   "source": [
    "df_filtered = df.filter(\n",
    "    (pl.col(\"DOM\") == \"D\"), \n",
    "    (pl.col(\"TYPEQU\").str.contains(\"D\")),\n",
    "    (pl.col(\"LATITUDE\").is_not_null() & pl.col(\"LONGITUDE\").is_not_null()) &\n",
    "    (pl.col(\"LATITUDE\") > 41) & (pl.col(\"LATITUDE\") < 52) &\n",
    "    (pl.col(\"LONGITUDE\") > -5) & (pl.col(\"LONGITUDE\") < 9),\n",
    "    (pl.col(\"SDOM\").is_in([\"D1\", \"D2\", \"D3\"]))\n",
    ").select([\n",
    "    \"DOM\", \"SDOM\", \"TYPEQU\", \"DENS3\", \"DENS7\",\n",
    "    \"AAV2020\", \"QP\", \"QP2015\", \"LATITUDE\", \"LONGITUDE\",\n",
    "    \"CODPOS\", \"LIBCOM\"\n",
    "]).collect()\n"
   ]
  },
  {
   "cell_type": "code",
   "execution_count": 9,
   "metadata": {},
   "outputs": [
    {
     "data": {
      "text/html": [
       "<div><style>\n",
       ".dataframe > thead > tr,\n",
       ".dataframe > tbody > tr {\n",
       "  text-align: right;\n",
       "  white-space: pre-wrap;\n",
       "}\n",
       "</style>\n",
       "<small>shape: (441_709, 12)</small><table border=\"1\" class=\"dataframe\"><thead><tr><th>DOM</th><th>SDOM</th><th>TYPEQU</th><th>DENS3</th><th>DENS7</th><th>AAV2020</th><th>QP</th><th>QP2015</th><th>LATITUDE</th><th>LONGITUDE</th><th>CODPOS</th><th>LIBCOM</th></tr><tr><td>str</td><td>str</td><td>str</td><td>str</td><td>str</td><td>str</td><td>str</td><td>str</td><td>f64</td><td>f64</td><td>str</td><td>str</td></tr></thead><tbody><tr><td>&quot;D&quot;</td><td>&quot;D1&quot;</td><td>&quot;D101&quot;</td><td>&quot;1&quot;</td><td>&quot;1&quot;</td><td>&quot;001&quot;</td><td>&quot;CSZ&quot;</td><td>&quot;CSZ&quot;</td><td>48.859152</td><td>2.341102</td><td>&quot;75001&quot;</td><td>&quot;PARIS 1ER ARRONDISSEMENT&quot;</td></tr><tr><td>&quot;D&quot;</td><td>&quot;D1&quot;</td><td>&quot;D108&quot;</td><td>&quot;1&quot;</td><td>&quot;1&quot;</td><td>&quot;001&quot;</td><td>&quot;CSZ&quot;</td><td>&quot;CSZ&quot;</td><td>48.865472</td><td>2.334304</td><td>&quot;75001&quot;</td><td>&quot;PARIS 1ER ARRONDISSEMENT&quot;</td></tr><tr><td>&quot;D&quot;</td><td>&quot;D1&quot;</td><td>&quot;D108&quot;</td><td>&quot;1&quot;</td><td>&quot;1&quot;</td><td>&quot;001&quot;</td><td>&quot;CSZ&quot;</td><td>&quot;CSZ&quot;</td><td>48.859328</td><td>2.346075</td><td>&quot;75001&quot;</td><td>&quot;PARIS 1ER ARRONDISSEMENT&quot;</td></tr><tr><td>&quot;D&quot;</td><td>&quot;D1&quot;</td><td>&quot;D108&quot;</td><td>&quot;1&quot;</td><td>&quot;1&quot;</td><td>&quot;001&quot;</td><td>&quot;CSZ&quot;</td><td>&quot;CSZ&quot;</td><td>48.863354</td><td>2.349947</td><td>&quot;75001&quot;</td><td>&quot;PARIS 1ER ARRONDISSEMENT&quot;</td></tr><tr><td>&quot;D&quot;</td><td>&quot;D1&quot;</td><td>&quot;D108&quot;</td><td>&quot;1&quot;</td><td>&quot;1&quot;</td><td>&quot;001&quot;</td><td>&quot;CSZ&quot;</td><td>&quot;CSZ&quot;</td><td>48.863715</td><td>2.347963</td><td>&quot;75001&quot;</td><td>&quot;PARIS 1ER ARRONDISSEMENT&quot;</td></tr><tr><td>&hellip;</td><td>&hellip;</td><td>&hellip;</td><td>&hellip;</td><td>&hellip;</td><td>&hellip;</td><td>&hellip;</td><td>&hellip;</td><td>&hellip;</td><td>&hellip;</td><td>&hellip;</td><td>&hellip;</td></tr><tr><td>&quot;D&quot;</td><td>&quot;D2&quot;</td><td>&quot;D244&quot;</td><td>&quot;3&quot;</td><td>&quot;5&quot;</td><td>&quot;495&quot;</td><td>&quot;CSZ&quot;</td><td>&quot;CSZ&quot;</td><td>42.621339</td><td>8.945191</td><td>&quot;20220&quot;</td><td>&quot;MONTICELLO&quot;</td></tr><tr><td>&quot;D&quot;</td><td>&quot;D2&quot;</td><td>&quot;D244&quot;</td><td>&quot;3&quot;</td><td>&quot;5&quot;</td><td>&quot;495&quot;</td><td>&quot;CSZ&quot;</td><td>&quot;CSZ&quot;</td><td>42.631096</td><td>8.950363</td><td>&quot;20220&quot;</td><td>&quot;MONTICELLO&quot;</td></tr><tr><td>&quot;D&quot;</td><td>&quot;D2&quot;</td><td>&quot;D244&quot;</td><td>&quot;3&quot;</td><td>&quot;6&quot;</td><td>&quot;430&quot;</td><td>&quot;CSZ&quot;</td><td>&quot;CSZ&quot;</td><td>42.546474</td><td>8.913547</td><td>&quot;20225&quot;</td><td>&quot;MURO&quot;</td></tr><tr><td>&quot;D&quot;</td><td>&quot;D2&quot;</td><td>&quot;D244&quot;</td><td>&quot;3&quot;</td><td>&quot;6&quot;</td><td>&quot;430&quot;</td><td>&quot;CSZ&quot;</td><td>&quot;CSZ&quot;</td><td>42.552518</td><td>8.950741</td><td>&quot;20225&quot;</td><td>&quot;NESSA&quot;</td></tr><tr><td>&quot;D&quot;</td><td>&quot;D2&quot;</td><td>&quot;D244&quot;</td><td>&quot;3&quot;</td><td>&quot;6&quot;</td><td>&quot;430&quot;</td><td>&quot;CSZ&quot;</td><td>&quot;CSZ&quot;</td><td>42.549897</td><td>8.949254</td><td>&quot;20225&quot;</td><td>&quot;NESSA&quot;</td></tr></tbody></table></div>"
      ],
      "text/plain": [
       "shape: (441_709, 12)\n",
       "┌─────┬──────┬────────┬───────┬───┬───────────┬───────────┬────────┬──────────────────────────┐\n",
       "│ DOM ┆ SDOM ┆ TYPEQU ┆ DENS3 ┆ … ┆ LATITUDE  ┆ LONGITUDE ┆ CODPOS ┆ LIBCOM                   │\n",
       "│ --- ┆ ---  ┆ ---    ┆ ---   ┆   ┆ ---       ┆ ---       ┆ ---    ┆ ---                      │\n",
       "│ str ┆ str  ┆ str    ┆ str   ┆   ┆ f64       ┆ f64       ┆ str    ┆ str                      │\n",
       "╞═════╪══════╪════════╪═══════╪═══╪═══════════╪═══════════╪════════╪══════════════════════════╡\n",
       "│ D   ┆ D1   ┆ D101   ┆ 1     ┆ … ┆ 48.859152 ┆ 2.341102  ┆ 75001  ┆ PARIS 1ER ARRONDISSEMENT │\n",
       "│ D   ┆ D1   ┆ D108   ┆ 1     ┆ … ┆ 48.865472 ┆ 2.334304  ┆ 75001  ┆ PARIS 1ER ARRONDISSEMENT │\n",
       "│ D   ┆ D1   ┆ D108   ┆ 1     ┆ … ┆ 48.859328 ┆ 2.346075  ┆ 75001  ┆ PARIS 1ER ARRONDISSEMENT │\n",
       "│ D   ┆ D1   ┆ D108   ┆ 1     ┆ … ┆ 48.863354 ┆ 2.349947  ┆ 75001  ┆ PARIS 1ER ARRONDISSEMENT │\n",
       "│ D   ┆ D1   ┆ D108   ┆ 1     ┆ … ┆ 48.863715 ┆ 2.347963  ┆ 75001  ┆ PARIS 1ER ARRONDISSEMENT │\n",
       "│ …   ┆ …    ┆ …      ┆ …     ┆ … ┆ …         ┆ …         ┆ …      ┆ …                        │\n",
       "│ D   ┆ D2   ┆ D244   ┆ 3     ┆ … ┆ 42.621339 ┆ 8.945191  ┆ 20220  ┆ MONTICELLO               │\n",
       "│ D   ┆ D2   ┆ D244   ┆ 3     ┆ … ┆ 42.631096 ┆ 8.950363  ┆ 20220  ┆ MONTICELLO               │\n",
       "│ D   ┆ D2   ┆ D244   ┆ 3     ┆ … ┆ 42.546474 ┆ 8.913547  ┆ 20225  ┆ MURO                     │\n",
       "│ D   ┆ D2   ┆ D244   ┆ 3     ┆ … ┆ 42.552518 ┆ 8.950741  ┆ 20225  ┆ NESSA                    │\n",
       "│ D   ┆ D2   ┆ D244   ┆ 3     ┆ … ┆ 42.549897 ┆ 8.949254  ┆ 20225  ┆ NESSA                    │\n",
       "└─────┴──────┴────────┴───────┴───┴───────────┴───────────┴────────┴──────────────────────────┘"
      ]
     },
     "execution_count": 9,
     "metadata": {},
     "output_type": "execute_result"
    }
   ],
   "source": [
    "df_filtered"
   ]
  },
  {
   "cell_type": "code",
   "execution_count": 7,
   "metadata": {},
   "outputs": [
    {
     "data": {
      "text/html": [
       "<div><style>\n",
       ".dataframe > thead > tr,\n",
       ".dataframe > tbody > tr {\n",
       "  text-align: right;\n",
       "  white-space: pre-wrap;\n",
       "}\n",
       "</style>\n",
       "<small>shape: (441_709, 2)</small><table border=\"1\" class=\"dataframe\"><thead><tr><th>LATITUDE</th><th>LONGITUDE</th></tr><tr><td>f64</td><td>f64</td></tr></thead><tbody><tr><td>48.859152</td><td>2.341102</td></tr><tr><td>48.865472</td><td>2.334304</td></tr><tr><td>48.859328</td><td>2.346075</td></tr><tr><td>48.863354</td><td>2.349947</td></tr><tr><td>48.863715</td><td>2.347963</td></tr><tr><td>&hellip;</td><td>&hellip;</td></tr><tr><td>42.621339</td><td>8.945191</td></tr><tr><td>42.631096</td><td>8.950363</td></tr><tr><td>42.546474</td><td>8.913547</td></tr><tr><td>42.552518</td><td>8.950741</td></tr><tr><td>42.549897</td><td>8.949254</td></tr></tbody></table></div>"
      ],
      "text/plain": [
       "shape: (441_709, 2)\n",
       "┌───────────┬───────────┐\n",
       "│ LATITUDE  ┆ LONGITUDE │\n",
       "│ ---       ┆ ---       │\n",
       "│ f64       ┆ f64       │\n",
       "╞═══════════╪═══════════╡\n",
       "│ 48.859152 ┆ 2.341102  │\n",
       "│ 48.865472 ┆ 2.334304  │\n",
       "│ 48.859328 ┆ 2.346075  │\n",
       "│ 48.863354 ┆ 2.349947  │\n",
       "│ 48.863715 ┆ 2.347963  │\n",
       "│ …         ┆ …         │\n",
       "│ 42.621339 ┆ 8.945191  │\n",
       "│ 42.631096 ┆ 8.950363  │\n",
       "│ 42.546474 ┆ 8.913547  │\n",
       "│ 42.552518 ┆ 8.950741  │\n",
       "│ 42.549897 ┆ 8.949254  │\n",
       "└───────────┴───────────┘"
      ]
     },
     "execution_count": 7,
     "metadata": {},
     "output_type": "execute_result"
    }
   ],
   "source": [
    "df_filtered.select([\"LATITUDE\", \"LONGITUDE\"])"
   ]
  },
  {
   "cell_type": "markdown",
   "metadata": {},
   "source": [
    "Les équipements de santé sont dans les variables :\n",
    "- DOM : D\n",
    "- SDOM : D1, D2, D3\n",
    "- TYPEQU : D101, D102, D103, D108, D113"
   ]
  },
  {
   "cell_type": "markdown",
   "metadata": {},
   "source": [
    "Variables importantes :\n",
    "- DOM : Domaine d’appartenance de l’équipement\n",
    "- SDOM : Sous-domaine d’appartenance de l’équipement\n",
    "- TYPEQU : Type d’équipement \n",
    "- DENS3 : Grille communale de densité à 3 niveaux\n",
    "- DENS7 : Grille communale de densité à 7 niveaux\n",
    "- AAV2020 : Zonage en aire d’attraction des villes 2020 d’implantation de l’équipement\n",
    "- QP : Quartier prioritaire de la politique de la ville d’appartenance de l’équipement\n",
    "- QP2015 : Quartier prioritaire de la politique de la ville 2015 d’appartenance de l’équipement\n",
    "- LATITUDE : Latitude en coordonnées GPS de l’équipement (degrés décimaux)\n",
    "- LONGITUDE : Longitude en coordonnées GPS de l’équipement (degrés décimaux)\n",
    "- CODPOS : Code postal de l’adresse d’implantation de l’équipement\n",
    "- LIBCOM : Libellé de la commune d’implantation de l’équipement"
   ]
  },
  {
   "cell_type": "markdown",
   "metadata": {},
   "source": [
    "# DuckDB"
   ]
  },
  {
   "cell_type": "code",
   "execution_count": 4,
   "metadata": {},
   "outputs": [],
   "source": [
    "df = pl.scan_parquet(data_path)"
   ]
  },
  {
   "cell_type": "code",
   "execution_count": 5,
   "metadata": {},
   "outputs": [],
   "source": [
    "df_filtered = df.select([\n",
    "    \"DOM\", \"SDOM\", \"TYPEQU\", \"CAPACITE\", \"ACCES_SANITAIRE\", \"PRES_SANITAIRE\",\n",
    "    \"DENS3\", \"DENS7\", \"AAV2020\", \"QP\", \"QP2015\", \"LATITUDE\", \"LONGITUDE\",\n",
    "    \"CODPOS\", \"LIBCOM\"\n",
    "])\n"
   ]
  },
  {
   "cell_type": "code",
   "execution_count": 6,
   "metadata": {},
   "outputs": [],
   "source": [
    "df_filtered = df_filtered.collect()"
   ]
  },
  {
   "cell_type": "code",
   "execution_count": 7,
   "metadata": {},
   "outputs": [
    {
     "data": {
      "text/plain": [
       "<duckdb.duckdb.DuckDBPyConnection at 0x2cf1cd1fb70>"
      ]
     },
     "execution_count": 7,
     "metadata": {},
     "output_type": "execute_result"
    }
   ],
   "source": [
    "con = db.connect(database=':memory:')\n",
    "con.register('df', df_filtered)"
   ]
  },
  {
   "cell_type": "code",
   "execution_count": 8,
   "metadata": {},
   "outputs": [],
   "source": [
    "query = \"\"\"\n",
    "SELECT *\n",
    "FROM df\n",
    "WHERE\n",
    "    DOM = 'D'\n",
    "    OR SDOM IN ('D1', 'D2', 'D3')\n",
    "    OR TYPEQU IN ('D101', 'D102', 'D103', 'D108', 'D113')\n",
    "    OR ACCES_SANITAIRE = '1'\n",
    "    OR PRES_SANITAIRE = '1'\n",
    "\"\"\""
   ]
  },
  {
   "cell_type": "code",
   "execution_count": 9,
   "metadata": {},
   "outputs": [
    {
     "ename": "",
     "evalue": "",
     "output_type": "error",
     "traceback": [
      "\u001b[1;31mThe Kernel crashed while executing code in the current cell or a previous cell. \n",
      "\u001b[1;31mPlease review the code in the cell(s) to identify a possible cause of the failure. \n",
      "\u001b[1;31mClick <a href='https://aka.ms/vscodeJupyterKernelCrash'>here</a> for more info. \n",
      "\u001b[1;31mView Jupyter <a href='command:jupyter.viewOutput'>log</a> for further details."
     ]
    }
   ],
   "source": [
    "df_sante = con.execute(query).fetchdf()"
   ]
  }
 ],
 "metadata": {
  "kernelspec": {
   "display_name": ".venv",
   "language": "python",
   "name": "python3"
  },
  "language_info": {
   "codemirror_mode": {
    "name": "ipython",
    "version": 3
   },
   "file_extension": ".py",
   "mimetype": "text/x-python",
   "name": "python",
   "nbconvert_exporter": "python",
   "pygments_lexer": "ipython3",
   "version": "3.13.1"
  }
 },
 "nbformat": 4,
 "nbformat_minor": 2
}
