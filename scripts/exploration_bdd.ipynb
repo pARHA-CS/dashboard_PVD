{
 "cells": [
  {
   "cell_type": "code",
   "execution_count": 2,
   "metadata": {},
   "outputs": [],
   "source": [
    "import polars as pl\n",
    "import os"
   ]
  },
  {
   "cell_type": "code",
   "execution_count": 8,
   "metadata": {},
   "outputs": [
    {
     "data": {
      "text/plain": [
       "'d:\\\\Cours_M2\\\\Big_data\\\\dashboard\\\\data'"
      ]
     },
     "execution_count": 8,
     "metadata": {},
     "output_type": "execute_result"
    }
   ],
   "source": [
    "current_dir = os.getcwd()\n",
    "parent_dir = os.path.dirname(current_dir)\n",
    "data = os.path.join(parent_dir, \"data\")\n",
    "data"
   ]
  },
  {
   "cell_type": "code",
   "execution_count": 32,
   "metadata": {},
   "outputs": [],
   "source": [
    "df = pl.read_parquet(os.path.join(data, \"BPE23.parquet\"))"
   ]
  },
  {
   "cell_type": "markdown",
   "metadata": {},
   "source": [
    "Les équipements de santé sont dans les variables :\n",
    "    - DOM : D\n",
    "    - SDOM : D1, D2, D3\n",
    "    - TYPEQU : D101, D102, D103, D108, D113"
   ]
  },
  {
   "cell_type": "code",
   "execution_count": 33,
   "metadata": {},
   "outputs": [],
   "source": [
    "df_sante = df.filter(\n",
    "    pl.col(\"DOM\") == \"D\",\n",
    "    pl.col(\"SDOM\").is_in([\"D1\", \"D2\", \"D3\"]),\n",
    "    pl.col(\"TYPEQU\").is_in([\"D101\", \"D102\", \"D103\", \"D108\", \"D113\"])\n",
    ")"
   ]
  },
  {
   "cell_type": "code",
   "execution_count": 34,
   "metadata": {},
   "outputs": [
    {
     "data": {
      "text/html": [
       "<div><style>\n",
       ".dataframe > thead > tr,\n",
       ".dataframe > tbody > tr {\n",
       "  text-align: right;\n",
       "  white-space: pre-wrap;\n",
       "}\n",
       "</style>\n",
       "<small>shape: (9_279, 74)</small><table border=\"1\" class=\"dataframe\"><thead><tr><th>AN</th><th>NOMRS</th><th>CNOMRS</th><th>NUMVOIE</th><th>INDREP</th><th>TYPVOIE</th><th>LIBVOIE</th><th>CADR</th><th>LIBCOM</th><th>CODPOS</th><th>DEPCOM</th><th>DEP</th><th>REG</th><th>DOM</th><th>SDOM</th><th>TYPEQU</th><th>SIRET</th><th>STATUT_DIFFUSION</th><th>CANTINE</th><th>INTERNAT</th><th>RPI</th><th>EP</th><th>CL_PGE</th><th>SECT</th><th>ACCES_AIRE_PRATIQUE</th><th>ACCES_LIBRE</th><th>ACCES_SANITAIRE</th><th>ACCES_VESTIAIRE</th><th>CAPACITE_D_ACCUEIL</th><th>PRES_DOUCHE</th><th>PRES_SANITAIRE</th><th>SAISONNIER</th><th>COUVERT</th><th>ECLAIRE</th><th>CATEGORIE</th><th>MULTIPLEXE</th><th>ACCUEIL</th><th>ITINERANCE</th><th>MODE_GESTION</th><th>SSTYPHEB</th><th>TYPE</th><th>CAPACITE</th><th>INDIC_CAPA</th><th>NBEQUIDENT</th><th>INDIC_NBEQUIDENT</th><th>NBSALLES</th><th>INDIC_NBSALLES</th><th>NBLIEUX</th><th>INDIC_NBLIEUX</th><th>LAMBERT_X</th><th>LAMBERT_Y</th><th>LONGITUDE</th><th>LATITUDE</th><th>QUALITE_XY</th><th>EPSG</th><th>QUALITE_GEOLOC</th><th>TR_DIST_PRECISION</th><th>DCIRIS</th><th>QUALI_IRIS</th><th>IRISEE</th><th>QP2015</th><th>QUALI_QP2015</th><th>QP</th><th>QUALI_QP</th><th>QVA</th><th>QUALI_QVA</th><th>ZUS</th><th>QUALI_ZUS</th><th>EPCI</th><th>UU2020</th><th>BV2022</th><th>AAV2020</th><th>DENS3</th><th>DENS7</th></tr><tr><td>str</td><td>str</td><td>str</td><td>str</td><td>str</td><td>str</td><td>str</td><td>str</td><td>str</td><td>str</td><td>str</td><td>str</td><td>str</td><td>str</td><td>str</td><td>str</td><td>str</td><td>str</td><td>str</td><td>str</td><td>str</td><td>str</td><td>str</td><td>str</td><td>str</td><td>str</td><td>str</td><td>str</td><td>str</td><td>str</td><td>str</td><td>str</td><td>str</td><td>str</td><td>str</td><td>str</td><td>str</td><td>str</td><td>str</td><td>str</td><td>str</td><td>f64</td><td>str</td><td>f64</td><td>str</td><td>f64</td><td>str</td><td>f64</td><td>str</td><td>f64</td><td>f64</td><td>f64</td><td>f64</td><td>str</td><td>str</td><td>str</td><td>str</td><td>str</td><td>str</td><td>str</td><td>str</td><td>str</td><td>str</td><td>str</td><td>str</td><td>str</td><td>str</td><td>str</td><td>str</td><td>str</td><td>str</td><td>str</td><td>str</td><td>str</td></tr></thead><tbody><tr><td>&quot;2023&quot;</td><td>&quot;POLYCLINIQUE DE LA GUADELOUPE&quot;</td><td>&quot;&quot;</td><td>&quot;&quot;</td><td>&quot;&quot;</td><td>&quot;MNE&quot;</td><td>&quot;JOLIVIERE&quot;</td><td>&quot;&quot;</td><td>&quot;LES ABYMES&quot;</td><td>&quot;97139&quot;</td><td>&quot;97101&quot;</td><td>&quot;971&quot;</td><td>&quot;01&quot;</td><td>&quot;D&quot;</td><td>&quot;D1&quot;</td><td>&quot;D101&quot;</td><td>&quot;31328539700011&quot;</td><td>&quot;O&quot;</td><td>&quot;_Z&quot;</td><td>&quot;_Z&quot;</td><td>&quot;_Z&quot;</td><td>&quot;_Z&quot;</td><td>&quot;_Z&quot;</td><td>&quot;_Z&quot;</td><td>&quot;_Z&quot;</td><td>&quot;_Z&quot;</td><td>&quot;_Z&quot;</td><td>&quot;_Z&quot;</td><td>&quot;_Z&quot;</td><td>&quot;_Z&quot;</td><td>&quot;_Z&quot;</td><td>&quot;_Z&quot;</td><td>&quot;_Z&quot;</td><td>&quot;_Z&quot;</td><td>&quot;_Z&quot;</td><td>&quot;_Z&quot;</td><td>&quot;_Z&quot;</td><td>&quot;_Z&quot;</td><td>&quot;_Z&quot;</td><td>&quot;_Z&quot;</td><td>&quot;_Z&quot;</td><td>null</td><td>&quot;0&quot;</td><td>null</td><td>&quot;0&quot;</td><td>null</td><td>&quot;0&quot;</td><td>null</td><td>&quot;0&quot;</td><td>657150.0</td><td>1.79525e6</td><td>-61.529615</td><td>16.232796</td><td>&quot;M&quot;</td><td>&quot;5490&quot;</td><td>&quot;12&quot;</td><td>&quot;&gt;= 500&quot;</td><td>&quot;971010114&quot;</td><td>&quot;1&quot;</td><td>&quot;1&quot;</td><td>&quot;QP971014&quot;</td><td>&quot;1&quot;</td><td>&quot;IND&quot;</td><td>&quot;3&quot;</td><td>&quot;CSZ&quot;</td><td>&quot;_Z&quot;</td><td>&quot;0110140&quot;</td><td>&quot;2&quot;</td><td>&quot;200018653&quot;</td><td>&quot;9A701&quot;</td><td>&quot;97101&quot;</td><td>&quot;9A1&quot;</td><td>&quot;2&quot;</td><td>&quot;2&quot;</td></tr><tr><td>&quot;2023&quot;</td><td>&quot;C H U DE POINTE A PITRE- SSR&quot;</td><td>&quot;&quot;</td><td>&quot;&quot;</td><td>&quot;&quot;</td><td>&quot;CTRE&quot;</td><td>&quot;HOSPITALIER JACQUES SALIN&quot;</td><td>&quot;&quot;</td><td>&quot;LES ABYMES&quot;</td><td>&quot;97139&quot;</td><td>&quot;97101&quot;</td><td>&quot;971&quot;</td><td>&quot;01&quot;</td><td>&quot;D&quot;</td><td>&quot;D1&quot;</td><td>&quot;D101&quot;</td><td>&quot;&quot;</td><td>&quot;_Z&quot;</td><td>&quot;_Z&quot;</td><td>&quot;_Z&quot;</td><td>&quot;_Z&quot;</td><td>&quot;_Z&quot;</td><td>&quot;_Z&quot;</td><td>&quot;_Z&quot;</td><td>&quot;_Z&quot;</td><td>&quot;_Z&quot;</td><td>&quot;_Z&quot;</td><td>&quot;_Z&quot;</td><td>&quot;_Z&quot;</td><td>&quot;_Z&quot;</td><td>&quot;_Z&quot;</td><td>&quot;_Z&quot;</td><td>&quot;_Z&quot;</td><td>&quot;_Z&quot;</td><td>&quot;_Z&quot;</td><td>&quot;_Z&quot;</td><td>&quot;_Z&quot;</td><td>&quot;_Z&quot;</td><td>&quot;_Z&quot;</td><td>&quot;_Z&quot;</td><td>&quot;_Z&quot;</td><td>null</td><td>&quot;0&quot;</td><td>null</td><td>&quot;0&quot;</td><td>null</td><td>&quot;0&quot;</td><td>null</td><td>&quot;0&quot;</td><td>657310.52</td><td>1.7957e6</td><td>-61.528087</td><td>16.236421</td><td>&quot;B&quot;</td><td>&quot;5490&quot;</td><td>&quot;11&quot;</td><td>&quot;&lt; 100&quot;</td><td>&quot;971010114&quot;</td><td>&quot;1&quot;</td><td>&quot;1&quot;</td><td>&quot;QP971014&quot;</td><td>&quot;1&quot;</td><td>&quot;IND&quot;</td><td>&quot;3&quot;</td><td>&quot;CSZ&quot;</td><td>&quot;_Z&quot;</td><td>&quot;HZ&quot;</td><td>&quot;1&quot;</td><td>&quot;200018653&quot;</td><td>&quot;9A701&quot;</td><td>&quot;97101&quot;</td><td>&quot;9A1&quot;</td><td>&quot;2&quot;</td><td>&quot;2&quot;</td></tr><tr><td>&quot;2023&quot;</td><td>&quot;C.H.U. DE POINTE-A-PITRE/ABYME…</td><td>&quot;&quot;</td><td>&quot;&quot;</td><td>&quot;&quot;</td><td>&quot;&quot;</td><td>&quot;&quot;</td><td>&quot;&quot;</td><td>&quot;LES ABYMES&quot;</td><td>&quot;97139&quot;</td><td>&quot;97101&quot;</td><td>&quot;971&quot;</td><td>&quot;01&quot;</td><td>&quot;D&quot;</td><td>&quot;D1&quot;</td><td>&quot;D101&quot;</td><td>&quot;26971041400013&quot;</td><td>&quot;O&quot;</td><td>&quot;_Z&quot;</td><td>&quot;_Z&quot;</td><td>&quot;_Z&quot;</td><td>&quot;_Z&quot;</td><td>&quot;_Z&quot;</td><td>&quot;_Z&quot;</td><td>&quot;_Z&quot;</td><td>&quot;_Z&quot;</td><td>&quot;_Z&quot;</td><td>&quot;_Z&quot;</td><td>&quot;_Z&quot;</td><td>&quot;_Z&quot;</td><td>&quot;_Z&quot;</td><td>&quot;_Z&quot;</td><td>&quot;_Z&quot;</td><td>&quot;_Z&quot;</td><td>&quot;_Z&quot;</td><td>&quot;_Z&quot;</td><td>&quot;_Z&quot;</td><td>&quot;_Z&quot;</td><td>&quot;_Z&quot;</td><td>&quot;_Z&quot;</td><td>&quot;_Z&quot;</td><td>null</td><td>&quot;0&quot;</td><td>null</td><td>&quot;0&quot;</td><td>null</td><td>&quot;0&quot;</td><td>null</td><td>&quot;0&quot;</td><td>657150.0</td><td>1.79555e6</td><td>-61.529595</td><td>16.235507</td><td>&quot;M&quot;</td><td>&quot;5490&quot;</td><td>&quot;33&quot;</td><td>&quot;_U&quot;</td><td>&quot;971010114&quot;</td><td>&quot;3&quot;</td><td>&quot;1&quot;</td><td>&quot;QP971014&quot;</td><td>&quot;3&quot;</td><td>&quot;IND&quot;</td><td>&quot;3&quot;</td><td>&quot;CSZ&quot;</td><td>&quot;_Z&quot;</td><td>&quot;0110110&quot;</td><td>&quot;3&quot;</td><td>&quot;200018653&quot;</td><td>&quot;9A701&quot;</td><td>&quot;97101&quot;</td><td>&quot;9A1&quot;</td><td>&quot;2&quot;</td><td>&quot;2&quot;</td></tr><tr><td>&quot;2023&quot;</td><td>&quot;CLINIQUE DE L&#x27;ESPÉRANCE&quot;</td><td>&quot;EX CLINIQUE LES ROSIERS&quot;</td><td>&quot;&quot;</td><td>&quot;&quot;</td><td>&quot;&quot;</td><td>&quot;PROVIDENCE&quot;</td><td>&quot;&quot;</td><td>&quot;LES ABYMES&quot;</td><td>&quot;97139&quot;</td><td>&quot;97101&quot;</td><td>&quot;971&quot;</td><td>&quot;01&quot;</td><td>&quot;D&quot;</td><td>&quot;D1&quot;</td><td>&quot;D102&quot;</td><td>&quot;43474488400025&quot;</td><td>&quot;O&quot;</td><td>&quot;_Z&quot;</td><td>&quot;_Z&quot;</td><td>&quot;_Z&quot;</td><td>&quot;_Z&quot;</td><td>&quot;_Z&quot;</td><td>&quot;_Z&quot;</td><td>&quot;_Z&quot;</td><td>&quot;_Z&quot;</td><td>&quot;_Z&quot;</td><td>&quot;_Z&quot;</td><td>&quot;_Z&quot;</td><td>&quot;_Z&quot;</td><td>&quot;_Z&quot;</td><td>&quot;_Z&quot;</td><td>&quot;_Z&quot;</td><td>&quot;_Z&quot;</td><td>&quot;_Z&quot;</td><td>&quot;_Z&quot;</td><td>&quot;_Z&quot;</td><td>&quot;_Z&quot;</td><td>&quot;_Z&quot;</td><td>&quot;_Z&quot;</td><td>&quot;_Z&quot;</td><td>null</td><td>&quot;0&quot;</td><td>null</td><td>&quot;0&quot;</td><td>null</td><td>&quot;0&quot;</td><td>null</td><td>&quot;0&quot;</td><td>659151.5</td><td>1.7990e6</td><td>-61.510634</td><td>16.266926</td><td>&quot;B&quot;</td><td>&quot;5490&quot;</td><td>&quot;11&quot;</td><td>&quot;&lt; 100&quot;</td><td>&quot;971010101&quot;</td><td>&quot;1&quot;</td><td>&quot;1&quot;</td><td>&quot;HZ&quot;</td><td>&quot;1&quot;</td><td>&quot;IND&quot;</td><td>&quot;3&quot;</td><td>&quot;CSZ&quot;</td><td>&quot;_Z&quot;</td><td>&quot;HZ&quot;</td><td>&quot;1&quot;</td><td>&quot;200018653&quot;</td><td>&quot;9A701&quot;</td><td>&quot;97101&quot;</td><td>&quot;9A1&quot;</td><td>&quot;2&quot;</td><td>&quot;2&quot;</td></tr><tr><td>&quot;2023&quot;</td><td>&quot;C H U DE POINTE A PITRE- SSR&quot;</td><td>&quot;&quot;</td><td>&quot;&quot;</td><td>&quot;&quot;</td><td>&quot;CTRE&quot;</td><td>&quot;HOSPITALIER JACQUES SALIN&quot;</td><td>&quot;&quot;</td><td>&quot;LES ABYMES&quot;</td><td>&quot;97139&quot;</td><td>&quot;97101&quot;</td><td>&quot;971&quot;</td><td>&quot;01&quot;</td><td>&quot;D&quot;</td><td>&quot;D1&quot;</td><td>&quot;D102&quot;</td><td>&quot;&quot;</td><td>&quot;_Z&quot;</td><td>&quot;_Z&quot;</td><td>&quot;_Z&quot;</td><td>&quot;_Z&quot;</td><td>&quot;_Z&quot;</td><td>&quot;_Z&quot;</td><td>&quot;_Z&quot;</td><td>&quot;_Z&quot;</td><td>&quot;_Z&quot;</td><td>&quot;_Z&quot;</td><td>&quot;_Z&quot;</td><td>&quot;_Z&quot;</td><td>&quot;_Z&quot;</td><td>&quot;_Z&quot;</td><td>&quot;_Z&quot;</td><td>&quot;_Z&quot;</td><td>&quot;_Z&quot;</td><td>&quot;_Z&quot;</td><td>&quot;_Z&quot;</td><td>&quot;_Z&quot;</td><td>&quot;_Z&quot;</td><td>&quot;_Z&quot;</td><td>&quot;_Z&quot;</td><td>&quot;_Z&quot;</td><td>null</td><td>&quot;0&quot;</td><td>null</td><td>&quot;0&quot;</td><td>null</td><td>&quot;0&quot;</td><td>null</td><td>&quot;0&quot;</td><td>657310.52</td><td>1.7957e6</td><td>-61.528087</td><td>16.236421</td><td>&quot;B&quot;</td><td>&quot;5490&quot;</td><td>&quot;11&quot;</td><td>&quot;&lt; 100&quot;</td><td>&quot;971010114&quot;</td><td>&quot;1&quot;</td><td>&quot;1&quot;</td><td>&quot;QP971014&quot;</td><td>&quot;1&quot;</td><td>&quot;IND&quot;</td><td>&quot;3&quot;</td><td>&quot;CSZ&quot;</td><td>&quot;_Z&quot;</td><td>&quot;HZ&quot;</td><td>&quot;1&quot;</td><td>&quot;200018653&quot;</td><td>&quot;9A701&quot;</td><td>&quot;97101&quot;</td><td>&quot;9A1&quot;</td><td>&quot;2&quot;</td><td>&quot;2&quot;</td></tr><tr><td>&hellip;</td><td>&hellip;</td><td>&hellip;</td><td>&hellip;</td><td>&hellip;</td><td>&hellip;</td><td>&hellip;</td><td>&hellip;</td><td>&hellip;</td><td>&hellip;</td><td>&hellip;</td><td>&hellip;</td><td>&hellip;</td><td>&hellip;</td><td>&hellip;</td><td>&hellip;</td><td>&hellip;</td><td>&hellip;</td><td>&hellip;</td><td>&hellip;</td><td>&hellip;</td><td>&hellip;</td><td>&hellip;</td><td>&hellip;</td><td>&hellip;</td><td>&hellip;</td><td>&hellip;</td><td>&hellip;</td><td>&hellip;</td><td>&hellip;</td><td>&hellip;</td><td>&hellip;</td><td>&hellip;</td><td>&hellip;</td><td>&hellip;</td><td>&hellip;</td><td>&hellip;</td><td>&hellip;</td><td>&hellip;</td><td>&hellip;</td><td>&hellip;</td><td>&hellip;</td><td>&hellip;</td><td>&hellip;</td><td>&hellip;</td><td>&hellip;</td><td>&hellip;</td><td>&hellip;</td><td>&hellip;</td><td>&hellip;</td><td>&hellip;</td><td>&hellip;</td><td>&hellip;</td><td>&hellip;</td><td>&hellip;</td><td>&hellip;</td><td>&hellip;</td><td>&hellip;</td><td>&hellip;</td><td>&hellip;</td><td>&hellip;</td><td>&hellip;</td><td>&hellip;</td><td>&hellip;</td><td>&hellip;</td><td>&hellip;</td><td>&hellip;</td><td>&hellip;</td><td>&hellip;</td><td>&hellip;</td><td>&hellip;</td><td>&hellip;</td><td>&hellip;</td><td>&hellip;</td></tr><tr><td>&quot;2023&quot;</td><td>&quot;MSP CASINCA-CASTAGNICCIA&quot;</td><td>&quot;&quot;</td><td>&quot;&quot;</td><td>&quot;&quot;</td><td>&quot;ESPA&quot;</td><td>&quot;CASINCA&quot;</td><td>&quot;&quot;</td><td>&quot;PENTA-DI-CASINCA&quot;</td><td>&quot;20213&quot;</td><td>&quot;2B207&quot;</td><td>&quot;2B&quot;</td><td>&quot;94&quot;</td><td>&quot;D&quot;</td><td>&quot;D1&quot;</td><td>&quot;D113&quot;</td><td>&quot;&quot;</td><td>&quot;_Z&quot;</td><td>&quot;_Z&quot;</td><td>&quot;_Z&quot;</td><td>&quot;_Z&quot;</td><td>&quot;_Z&quot;</td><td>&quot;_Z&quot;</td><td>&quot;_Z&quot;</td><td>&quot;_Z&quot;</td><td>&quot;_Z&quot;</td><td>&quot;_Z&quot;</td><td>&quot;_Z&quot;</td><td>&quot;_Z&quot;</td><td>&quot;_Z&quot;</td><td>&quot;_Z&quot;</td><td>&quot;_Z&quot;</td><td>&quot;_Z&quot;</td><td>&quot;_Z&quot;</td><td>&quot;_Z&quot;</td><td>&quot;_Z&quot;</td><td>&quot;_Z&quot;</td><td>&quot;_Z&quot;</td><td>&quot;_Z&quot;</td><td>&quot;_Z&quot;</td><td>&quot;_Z&quot;</td><td>null</td><td>&quot;0&quot;</td><td>null</td><td>&quot;0&quot;</td><td>null</td><td>&quot;0&quot;</td><td>null</td><td>&quot;0&quot;</td><td>1.23565e6</td><td>6.17125e6</td><td>9.508031</td><td>42.442367</td><td>&quot;M&quot;</td><td>&quot;2154&quot;</td><td>&quot;33&quot;</td><td>&quot;_U&quot;</td><td>&quot;2B2070000&quot;</td><td>&quot;_Z&quot;</td><td>&quot;0&quot;</td><td>&quot;CSZ&quot;</td><td>&quot;_Z&quot;</td><td>&quot;CSZ&quot;</td><td>&quot;_Z&quot;</td><td>&quot;CSZ&quot;</td><td>&quot;_Z&quot;</td><td>&quot;CSZ&quot;</td><td>&quot;_Z&quot;</td><td>&quot;200073252&quot;</td><td>&quot;2B203&quot;</td><td>&quot;2B207&quot;</td><td>&quot;104&quot;</td><td>&quot;3&quot;</td><td>&quot;5&quot;</td></tr><tr><td>&quot;2023&quot;</td><td>&quot;MSP SAN DAMIANU MEDICA&quot;</td><td>&quot;CABINET MEDICAL&quot;</td><td>&quot;&quot;</td><td>&quot;&quot;</td><td>&quot;RES&quot;</td><td>&quot;CORAIL&quot;</td><td>&quot;MIGLIACCIARU&quot;</td><td>&quot;PRUNELLI-DI-FIUMORBO&quot;</td><td>&quot;20243&quot;</td><td>&quot;2B251&quot;</td><td>&quot;2B&quot;</td><td>&quot;94&quot;</td><td>&quot;D&quot;</td><td>&quot;D1&quot;</td><td>&quot;D113&quot;</td><td>&quot;&quot;</td><td>&quot;_Z&quot;</td><td>&quot;_Z&quot;</td><td>&quot;_Z&quot;</td><td>&quot;_Z&quot;</td><td>&quot;_Z&quot;</td><td>&quot;_Z&quot;</td><td>&quot;_Z&quot;</td><td>&quot;_Z&quot;</td><td>&quot;_Z&quot;</td><td>&quot;_Z&quot;</td><td>&quot;_Z&quot;</td><td>&quot;_Z&quot;</td><td>&quot;_Z&quot;</td><td>&quot;_Z&quot;</td><td>&quot;_Z&quot;</td><td>&quot;_Z&quot;</td><td>&quot;_Z&quot;</td><td>&quot;_Z&quot;</td><td>&quot;_Z&quot;</td><td>&quot;_Z&quot;</td><td>&quot;_Z&quot;</td><td>&quot;_Z&quot;</td><td>&quot;_Z&quot;</td><td>&quot;_Z&quot;</td><td>null</td><td>&quot;0&quot;</td><td>null</td><td>&quot;0&quot;</td><td>null</td><td>&quot;0&quot;</td><td>null</td><td>&quot;0&quot;</td><td>1.23095e6</td><td>6.12145e6</td><td>9.402231</td><td>41.999777</td><td>&quot;M&quot;</td><td>&quot;2154&quot;</td><td>&quot;21&quot;</td><td>&quot;&lt; 100&quot;</td><td>&quot;2B2510000&quot;</td><td>&quot;_Z&quot;</td><td>&quot;0&quot;</td><td>&quot;CSZ&quot;</td><td>&quot;_Z&quot;</td><td>&quot;CSZ&quot;</td><td>&quot;_Z&quot;</td><td>&quot;CSZ&quot;</td><td>&quot;_Z&quot;</td><td>&quot;CSZ&quot;</td><td>&quot;_Z&quot;</td><td>&quot;200033827&quot;</td><td>&quot;2B101&quot;</td><td>&quot;2B251&quot;</td><td>&quot;CSZ&quot;</td><td>&quot;3&quot;</td><td>&quot;5&quot;</td></tr><tr><td>&quot;2023&quot;</td><td>&quot;CENTRE DE SANTE DENTAIRE MUTUA…</td><td>&quot;DE VALLE DI CAMPOLORO&quot;</td><td>&quot;&quot;</td><td>&quot;&quot;</td><td>&quot;RTE&quot;</td><td>&quot;TERRITORIALE 10&quot;</td><td>&quot;CENTRE MEDICAL - RN 198, LIEU …</td><td>&quot;SANTA-MARIA-POGGIO&quot;</td><td>&quot;20221&quot;</td><td>&quot;2B311&quot;</td><td>&quot;2B&quot;</td><td>&quot;94&quot;</td><td>&quot;D&quot;</td><td>&quot;D1&quot;</td><td>&quot;D108&quot;</td><td>&quot;82750059600107&quot;</td><td>&quot;O&quot;</td><td>&quot;_Z&quot;</td><td>&quot;_Z&quot;</td><td>&quot;_Z&quot;</td><td>&quot;_Z&quot;</td><td>&quot;_Z&quot;</td><td>&quot;_Z&quot;</td><td>&quot;_Z&quot;</td><td>&quot;_Z&quot;</td><td>&quot;_Z&quot;</td><td>&quot;_Z&quot;</td><td>&quot;_Z&quot;</td><td>&quot;_Z&quot;</td><td>&quot;_Z&quot;</td><td>&quot;_Z&quot;</td><td>&quot;_Z&quot;</td><td>&quot;_Z&quot;</td><td>&quot;_Z&quot;</td><td>&quot;_Z&quot;</td><td>&quot;_Z&quot;</td><td>&quot;_Z&quot;</td><td>&quot;_Z&quot;</td><td>&quot;_Z&quot;</td><td>&quot;_Z&quot;</td><td>null</td><td>&quot;0&quot;</td><td>null</td><td>&quot;0&quot;</td><td>null</td><td>&quot;0&quot;</td><td>null</td><td>&quot;0&quot;</td><td>1.23645e6</td><td>6.16155e6</td><td>9.508016</td><td>42.354884</td><td>&quot;M&quot;</td><td>&quot;2154&quot;</td><td>&quot;33&quot;</td><td>&quot;_U&quot;</td><td>&quot;2B3110000&quot;</td><td>&quot;_Z&quot;</td><td>&quot;0&quot;</td><td>&quot;CSZ&quot;</td><td>&quot;_Z&quot;</td><td>&quot;CSZ&quot;</td><td>&quot;_Z&quot;</td><td>&quot;CSZ&quot;</td><td>&quot;_Z&quot;</td><td>&quot;CSZ&quot;</td><td>&quot;_Z&quot;</td><td>&quot;200034205&quot;</td><td>&quot;CSZ&quot;</td><td>&quot;2B207&quot;</td><td>&quot;CSZ&quot;</td><td>&quot;3&quot;</td><td>&quot;6&quot;</td></tr><tr><td>&quot;2023&quot;</td><td>&quot;MSP SAN NICOLAO&quot;</td><td>&quot;&quot;</td><td>&quot;&quot;</td><td>&quot;&quot;</td><td>&quot;&quot;</td><td>&quot;MORIANI PLAGE&quot;</td><td>&quot;&quot;</td><td>&quot;SAN-NICOLAO&quot;</td><td>&quot;20230&quot;</td><td>&quot;2B313&quot;</td><td>&quot;2B&quot;</td><td>&quot;94&quot;</td><td>&quot;D&quot;</td><td>&quot;D1&quot;</td><td>&quot;D113&quot;</td><td>&quot;81326808300017&quot;</td><td>&quot;O&quot;</td><td>&quot;_Z&quot;</td><td>&quot;_Z&quot;</td><td>&quot;_Z&quot;</td><td>&quot;_Z&quot;</td><td>&quot;_Z&quot;</td><td>&quot;_Z&quot;</td><td>&quot;_Z&quot;</td><td>&quot;_Z&quot;</td><td>&quot;_Z&quot;</td><td>&quot;_Z&quot;</td><td>&quot;_Z&quot;</td><td>&quot;_Z&quot;</td><td>&quot;_Z&quot;</td><td>&quot;_Z&quot;</td><td>&quot;_Z&quot;</td><td>&quot;_Z&quot;</td><td>&quot;_Z&quot;</td><td>&quot;_Z&quot;</td><td>&quot;_Z&quot;</td><td>&quot;_Z&quot;</td><td>&quot;_Z&quot;</td><td>&quot;_Z&quot;</td><td>&quot;_Z&quot;</td><td>null</td><td>&quot;0&quot;</td><td>null</td><td>&quot;0&quot;</td><td>null</td><td>&quot;0&quot;</td><td>null</td><td>&quot;0&quot;</td><td>1.2380e6</td><td>6.1638e6</td><td>9.529517</td><td>42.37342</td><td>&quot;B&quot;</td><td>&quot;2154&quot;</td><td>&quot;11&quot;</td><td>&quot;&lt; 100&quot;</td><td>&quot;2B3130000&quot;</td><td>&quot;_Z&quot;</td><td>&quot;0&quot;</td><td>&quot;CSZ&quot;</td><td>&quot;_Z&quot;</td><td>&quot;CSZ&quot;</td><td>&quot;_Z&quot;</td><td>&quot;CSZ&quot;</td><td>&quot;_Z&quot;</td><td>&quot;CSZ&quot;</td><td>&quot;_Z&quot;</td><td>&quot;200034205&quot;</td><td>&quot;2B203&quot;</td><td>&quot;2B207&quot;</td><td>&quot;CSZ&quot;</td><td>&quot;3&quot;</td><td>&quot;5&quot;</td></tr><tr><td>&quot;2023&quot;</td><td>&quot;CLINIQUE DE TOGA&quot;</td><td>&quot;&quot;</td><td>&quot;&quot;</td><td>&quot;&quot;</td><td>&quot;QUA&quot;</td><td>&quot;TOGA&quot;</td><td>&quot;&quot;</td><td>&quot;VILLE-DI-PIETRABUGNO&quot;</td><td>&quot;20200&quot;</td><td>&quot;2B353&quot;</td><td>&quot;2B&quot;</td><td>&quot;94&quot;</td><td>&quot;D&quot;</td><td>&quot;D1&quot;</td><td>&quot;D102&quot;</td><td>&quot;80162444600028&quot;</td><td>&quot;O&quot;</td><td>&quot;_Z&quot;</td><td>&quot;_Z&quot;</td><td>&quot;_Z&quot;</td><td>&quot;_Z&quot;</td><td>&quot;_Z&quot;</td><td>&quot;_Z&quot;</td><td>&quot;_Z&quot;</td><td>&quot;_Z&quot;</td><td>&quot;_Z&quot;</td><td>&quot;_Z&quot;</td><td>&quot;_Z&quot;</td><td>&quot;_Z&quot;</td><td>&quot;_Z&quot;</td><td>&quot;_Z&quot;</td><td>&quot;_Z&quot;</td><td>&quot;_Z&quot;</td><td>&quot;_Z&quot;</td><td>&quot;_Z&quot;</td><td>&quot;_Z&quot;</td><td>&quot;_Z&quot;</td><td>&quot;_Z&quot;</td><td>&quot;_Z&quot;</td><td>&quot;_Z&quot;</td><td>null</td><td>&quot;0&quot;</td><td>null</td><td>&quot;0&quot;</td><td>null</td><td>&quot;0&quot;</td><td>null</td><td>&quot;0&quot;</td><td>1.2287e6</td><td>6.2005e6</td><td>9.453462</td><td>42.709816</td><td>&quot;B&quot;</td><td>&quot;2154&quot;</td><td>&quot;11&quot;</td><td>&quot;&lt; 100&quot;</td><td>&quot;2B3530000&quot;</td><td>&quot;_Z&quot;</td><td>&quot;0&quot;</td><td>&quot;CSZ&quot;</td><td>&quot;_Z&quot;</td><td>&quot;CSZ&quot;</td><td>&quot;_Z&quot;</td><td>&quot;CSZ&quot;</td><td>&quot;_Z&quot;</td><td>&quot;CSZ&quot;</td><td>&quot;_Z&quot;</td><td>&quot;242000354&quot;</td><td>&quot;2B501&quot;</td><td>&quot;2B033&quot;</td><td>&quot;104&quot;</td><td>&quot;2&quot;</td><td>&quot;4&quot;</td></tr></tbody></table></div>"
      ],
      "text/plain": [
       "shape: (9_279, 74)\n",
       "┌──────┬────────────────────────┬─────────────────┬─────────┬───┬────────┬─────────┬───────┬───────┐\n",
       "│ AN   ┆ NOMRS                  ┆ CNOMRS          ┆ NUMVOIE ┆ … ┆ BV2022 ┆ AAV2020 ┆ DENS3 ┆ DENS7 │\n",
       "│ ---  ┆ ---                    ┆ ---             ┆ ---     ┆   ┆ ---    ┆ ---     ┆ ---   ┆ ---   │\n",
       "│ str  ┆ str                    ┆ str             ┆ str     ┆   ┆ str    ┆ str     ┆ str   ┆ str   │\n",
       "╞══════╪════════════════════════╪═════════════════╪═════════╪═══╪════════╪═════════╪═══════╪═══════╡\n",
       "│ 2023 ┆ POLYCLINIQUE DE LA     ┆                 ┆         ┆ … ┆ 97101  ┆ 9A1     ┆ 2     ┆ 2     │\n",
       "│      ┆ GUADELOUPE             ┆                 ┆         ┆   ┆        ┆         ┆       ┆       │\n",
       "│ 2023 ┆ C H U DE POINTE A      ┆                 ┆         ┆ … ┆ 97101  ┆ 9A1     ┆ 2     ┆ 2     │\n",
       "│      ┆ PITRE- SSR             ┆                 ┆         ┆   ┆        ┆         ┆       ┆       │\n",
       "│ 2023 ┆ C.H.U. DE              ┆                 ┆         ┆ … ┆ 97101  ┆ 9A1     ┆ 2     ┆ 2     │\n",
       "│      ┆ POINTE-A-PITRE/ABYME…  ┆                 ┆         ┆   ┆        ┆         ┆       ┆       │\n",
       "│ 2023 ┆ CLINIQUE DE            ┆ EX CLINIQUE LES ┆         ┆ … ┆ 97101  ┆ 9A1     ┆ 2     ┆ 2     │\n",
       "│      ┆ L'ESPÉRANCE            ┆ ROSIERS         ┆         ┆   ┆        ┆         ┆       ┆       │\n",
       "│ 2023 ┆ C H U DE POINTE A      ┆                 ┆         ┆ … ┆ 97101  ┆ 9A1     ┆ 2     ┆ 2     │\n",
       "│      ┆ PITRE- SSR             ┆                 ┆         ┆   ┆        ┆         ┆       ┆       │\n",
       "│ …    ┆ …                      ┆ …               ┆ …       ┆ … ┆ …      ┆ …       ┆ …     ┆ …     │\n",
       "│ 2023 ┆ MSP                    ┆                 ┆         ┆ … ┆ 2B207  ┆ 104     ┆ 3     ┆ 5     │\n",
       "│      ┆ CASINCA-CASTAGNICCIA   ┆                 ┆         ┆   ┆        ┆         ┆       ┆       │\n",
       "│ 2023 ┆ MSP SAN DAMIANU MEDICA ┆ CABINET MEDICAL ┆         ┆ … ┆ 2B251  ┆ CSZ     ┆ 3     ┆ 5     │\n",
       "│ 2023 ┆ CENTRE DE SANTE        ┆ DE VALLE DI     ┆         ┆ … ┆ 2B207  ┆ CSZ     ┆ 3     ┆ 6     │\n",
       "│      ┆ DENTAIRE MUTUA…        ┆ CAMPOLORO       ┆         ┆   ┆        ┆         ┆       ┆       │\n",
       "│ 2023 ┆ MSP SAN NICOLAO        ┆                 ┆         ┆ … ┆ 2B207  ┆ CSZ     ┆ 3     ┆ 5     │\n",
       "│ 2023 ┆ CLINIQUE DE TOGA       ┆                 ┆         ┆ … ┆ 2B033  ┆ 104     ┆ 2     ┆ 4     │\n",
       "└──────┴────────────────────────┴─────────────────┴─────────┴───┴────────┴─────────┴───────┴───────┘"
      ]
     },
     "execution_count": 34,
     "metadata": {},
     "output_type": "execute_result"
    }
   ],
   "source": [
    "df_sante"
   ]
  },
  {
   "cell_type": "markdown",
   "metadata": {},
   "source": [
    "variables importantes :\n",
    "    - DOM  \n",
    "    - SDOM \n",
    "    - TYPEQU \n",
    "    - CAPACITE \n",
    "    - ACCES_SANITAIRE \n",
    "    - PRES_SANITAIRE \n",
    "    - DENS3 \n",
    "    - DENS7\n",
    "    - AAV2020 \n",
    "    - QP & QP2015\n",
    "    - LATITUDE & LONGITUDE \n",
    "    - CODPOS \n",
    "    - LIBCOM "
   ]
  },
  {
   "cell_type": "code",
   "execution_count": 35,
   "metadata": {},
   "outputs": [],
   "source": [
    "df_sante = df_sante.select(\n",
    "    pl.col(\"DOM\"),\n",
    "    pl.col(\"SDOM\"),\n",
    "    pl.col(\"TYPEQU\"),\n",
    "    pl.col(\"CAPACITE\"),\n",
    "    pl.col(\"ACCES_SANITAIRE\"),\n",
    "    pl.col(\"PRES_SANITAIRE\"),\n",
    "    pl.col(\"DENS3\"),\n",
    "    pl.col(\"DENS7\"),\n",
    "    pl.col(\"AAV2020\"),\n",
    "    pl.col(\"QP\"),\n",
    "    pl.col(\"QP2015\"),\n",
    "    pl.col(\"LATITUDE\"),\n",
    "    pl.col(\"LONGITUDE\"),\n",
    "    pl.col(\"CODPOS\"),\n",
    "    pl.col(\"LIBCOM\"),\n",
    ")"
   ]
  },
  {
   "cell_type": "code",
   "execution_count": 36,
   "metadata": {},
   "outputs": [
    {
     "data": {
      "text/html": [
       "<div><style>\n",
       ".dataframe > thead > tr,\n",
       ".dataframe > tbody > tr {\n",
       "  text-align: right;\n",
       "  white-space: pre-wrap;\n",
       "}\n",
       "</style>\n",
       "<small>shape: (9_279, 15)</small><table border=\"1\" class=\"dataframe\"><thead><tr><th>DOM</th><th>SDOM</th><th>TYPEQU</th><th>CAPACITE</th><th>ACCES_SANITAIRE</th><th>PRES_SANITAIRE</th><th>DENS3</th><th>DENS7</th><th>AAV2020</th><th>QP</th><th>QP2015</th><th>LATITUDE</th><th>LONGITUDE</th><th>CODPOS</th><th>LIBCOM</th></tr><tr><td>str</td><td>str</td><td>str</td><td>f64</td><td>str</td><td>str</td><td>str</td><td>str</td><td>str</td><td>str</td><td>str</td><td>f64</td><td>f64</td><td>str</td><td>str</td></tr></thead><tbody><tr><td>&quot;D&quot;</td><td>&quot;D1&quot;</td><td>&quot;D101&quot;</td><td>null</td><td>&quot;_Z&quot;</td><td>&quot;_Z&quot;</td><td>&quot;2&quot;</td><td>&quot;2&quot;</td><td>&quot;9A1&quot;</td><td>&quot;IND&quot;</td><td>&quot;QP971014&quot;</td><td>16.232796</td><td>-61.529615</td><td>&quot;97139&quot;</td><td>&quot;LES ABYMES&quot;</td></tr><tr><td>&quot;D&quot;</td><td>&quot;D1&quot;</td><td>&quot;D101&quot;</td><td>null</td><td>&quot;_Z&quot;</td><td>&quot;_Z&quot;</td><td>&quot;2&quot;</td><td>&quot;2&quot;</td><td>&quot;9A1&quot;</td><td>&quot;IND&quot;</td><td>&quot;QP971014&quot;</td><td>16.236421</td><td>-61.528087</td><td>&quot;97139&quot;</td><td>&quot;LES ABYMES&quot;</td></tr><tr><td>&quot;D&quot;</td><td>&quot;D1&quot;</td><td>&quot;D101&quot;</td><td>null</td><td>&quot;_Z&quot;</td><td>&quot;_Z&quot;</td><td>&quot;2&quot;</td><td>&quot;2&quot;</td><td>&quot;9A1&quot;</td><td>&quot;IND&quot;</td><td>&quot;QP971014&quot;</td><td>16.235507</td><td>-61.529595</td><td>&quot;97139&quot;</td><td>&quot;LES ABYMES&quot;</td></tr><tr><td>&quot;D&quot;</td><td>&quot;D1&quot;</td><td>&quot;D102&quot;</td><td>null</td><td>&quot;_Z&quot;</td><td>&quot;_Z&quot;</td><td>&quot;2&quot;</td><td>&quot;2&quot;</td><td>&quot;9A1&quot;</td><td>&quot;IND&quot;</td><td>&quot;HZ&quot;</td><td>16.266926</td><td>-61.510634</td><td>&quot;97139&quot;</td><td>&quot;LES ABYMES&quot;</td></tr><tr><td>&quot;D&quot;</td><td>&quot;D1&quot;</td><td>&quot;D102&quot;</td><td>null</td><td>&quot;_Z&quot;</td><td>&quot;_Z&quot;</td><td>&quot;2&quot;</td><td>&quot;2&quot;</td><td>&quot;9A1&quot;</td><td>&quot;IND&quot;</td><td>&quot;QP971014&quot;</td><td>16.236421</td><td>-61.528087</td><td>&quot;97139&quot;</td><td>&quot;LES ABYMES&quot;</td></tr><tr><td>&hellip;</td><td>&hellip;</td><td>&hellip;</td><td>&hellip;</td><td>&hellip;</td><td>&hellip;</td><td>&hellip;</td><td>&hellip;</td><td>&hellip;</td><td>&hellip;</td><td>&hellip;</td><td>&hellip;</td><td>&hellip;</td><td>&hellip;</td><td>&hellip;</td></tr><tr><td>&quot;D&quot;</td><td>&quot;D1&quot;</td><td>&quot;D113&quot;</td><td>null</td><td>&quot;_Z&quot;</td><td>&quot;_Z&quot;</td><td>&quot;3&quot;</td><td>&quot;5&quot;</td><td>&quot;104&quot;</td><td>&quot;CSZ&quot;</td><td>&quot;CSZ&quot;</td><td>42.442367</td><td>9.508031</td><td>&quot;20213&quot;</td><td>&quot;PENTA-DI-CASINCA&quot;</td></tr><tr><td>&quot;D&quot;</td><td>&quot;D1&quot;</td><td>&quot;D113&quot;</td><td>null</td><td>&quot;_Z&quot;</td><td>&quot;_Z&quot;</td><td>&quot;3&quot;</td><td>&quot;5&quot;</td><td>&quot;CSZ&quot;</td><td>&quot;CSZ&quot;</td><td>&quot;CSZ&quot;</td><td>41.999777</td><td>9.402231</td><td>&quot;20243&quot;</td><td>&quot;PRUNELLI-DI-FIUMORBO&quot;</td></tr><tr><td>&quot;D&quot;</td><td>&quot;D1&quot;</td><td>&quot;D108&quot;</td><td>null</td><td>&quot;_Z&quot;</td><td>&quot;_Z&quot;</td><td>&quot;3&quot;</td><td>&quot;6&quot;</td><td>&quot;CSZ&quot;</td><td>&quot;CSZ&quot;</td><td>&quot;CSZ&quot;</td><td>42.354884</td><td>9.508016</td><td>&quot;20221&quot;</td><td>&quot;SANTA-MARIA-POGGIO&quot;</td></tr><tr><td>&quot;D&quot;</td><td>&quot;D1&quot;</td><td>&quot;D113&quot;</td><td>null</td><td>&quot;_Z&quot;</td><td>&quot;_Z&quot;</td><td>&quot;3&quot;</td><td>&quot;5&quot;</td><td>&quot;CSZ&quot;</td><td>&quot;CSZ&quot;</td><td>&quot;CSZ&quot;</td><td>42.37342</td><td>9.529517</td><td>&quot;20230&quot;</td><td>&quot;SAN-NICOLAO&quot;</td></tr><tr><td>&quot;D&quot;</td><td>&quot;D1&quot;</td><td>&quot;D102&quot;</td><td>null</td><td>&quot;_Z&quot;</td><td>&quot;_Z&quot;</td><td>&quot;2&quot;</td><td>&quot;4&quot;</td><td>&quot;104&quot;</td><td>&quot;CSZ&quot;</td><td>&quot;CSZ&quot;</td><td>42.709816</td><td>9.453462</td><td>&quot;20200&quot;</td><td>&quot;VILLE-DI-PIETRABUGNO&quot;</td></tr></tbody></table></div>"
      ],
      "text/plain": [
       "shape: (9_279, 15)\n",
       "┌─────┬──────┬────────┬──────────┬───┬───────────┬────────────┬────────┬──────────────────────┐\n",
       "│ DOM ┆ SDOM ┆ TYPEQU ┆ CAPACITE ┆ … ┆ LATITUDE  ┆ LONGITUDE  ┆ CODPOS ┆ LIBCOM               │\n",
       "│ --- ┆ ---  ┆ ---    ┆ ---      ┆   ┆ ---       ┆ ---        ┆ ---    ┆ ---                  │\n",
       "│ str ┆ str  ┆ str    ┆ f64      ┆   ┆ f64       ┆ f64        ┆ str    ┆ str                  │\n",
       "╞═════╪══════╪════════╪══════════╪═══╪═══════════╪════════════╪════════╪══════════════════════╡\n",
       "│ D   ┆ D1   ┆ D101   ┆ null     ┆ … ┆ 16.232796 ┆ -61.529615 ┆ 97139  ┆ LES ABYMES           │\n",
       "│ D   ┆ D1   ┆ D101   ┆ null     ┆ … ┆ 16.236421 ┆ -61.528087 ┆ 97139  ┆ LES ABYMES           │\n",
       "│ D   ┆ D1   ┆ D101   ┆ null     ┆ … ┆ 16.235507 ┆ -61.529595 ┆ 97139  ┆ LES ABYMES           │\n",
       "│ D   ┆ D1   ┆ D102   ┆ null     ┆ … ┆ 16.266926 ┆ -61.510634 ┆ 97139  ┆ LES ABYMES           │\n",
       "│ D   ┆ D1   ┆ D102   ┆ null     ┆ … ┆ 16.236421 ┆ -61.528087 ┆ 97139  ┆ LES ABYMES           │\n",
       "│ …   ┆ …    ┆ …      ┆ …        ┆ … ┆ …         ┆ …          ┆ …      ┆ …                    │\n",
       "│ D   ┆ D1   ┆ D113   ┆ null     ┆ … ┆ 42.442367 ┆ 9.508031   ┆ 20213  ┆ PENTA-DI-CASINCA     │\n",
       "│ D   ┆ D1   ┆ D113   ┆ null     ┆ … ┆ 41.999777 ┆ 9.402231   ┆ 20243  ┆ PRUNELLI-DI-FIUMORBO │\n",
       "│ D   ┆ D1   ┆ D108   ┆ null     ┆ … ┆ 42.354884 ┆ 9.508016   ┆ 20221  ┆ SANTA-MARIA-POGGIO   │\n",
       "│ D   ┆ D1   ┆ D113   ┆ null     ┆ … ┆ 42.37342  ┆ 9.529517   ┆ 20230  ┆ SAN-NICOLAO          │\n",
       "│ D   ┆ D1   ┆ D102   ┆ null     ┆ … ┆ 42.709816 ┆ 9.453462   ┆ 20200  ┆ VILLE-DI-PIETRABUGNO │\n",
       "└─────┴──────┴────────┴──────────┴───┴───────────┴────────────┴────────┴──────────────────────┘"
      ]
     },
     "execution_count": 36,
     "metadata": {},
     "output_type": "execute_result"
    }
   ],
   "source": [
    "df_sante"
   ]
  }
 ],
 "metadata": {
  "kernelspec": {
   "display_name": ".venv",
   "language": "python",
   "name": "python3"
  },
  "language_info": {
   "codemirror_mode": {
    "name": "ipython",
    "version": 3
   },
   "file_extension": ".py",
   "mimetype": "text/x-python",
   "name": "python",
   "nbconvert_exporter": "python",
   "pygments_lexer": "ipython3",
   "version": "3.13.1"
  }
 },
 "nbformat": 4,
 "nbformat_minor": 2
}
